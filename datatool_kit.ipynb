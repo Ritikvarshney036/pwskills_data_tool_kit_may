{
 "cells": [
  {
   "cell_type": "code",
   "execution_count": null,
   "id": "5b302ba4",
   "metadata": {},
   "outputs": [
    {
     "name": "stdout",
     "output_type": "stream",
     "text": [
      "Requirement already satisfied: seaborn in c:\\users\\asus\\appdata\\local\\programs\\python\\python312\\lib\\site-packages (0.13.2)Note: you may need to restart the kernel to use updated packages.\n",
      "\n",
      "Requirement already satisfied: numpy!=1.24.0,>=1.20 in c:\\users\\asus\\appdata\\local\\programs\\python\\python312\\lib\\site-packages (from seaborn) (1.26.2)\n",
      "Requirement already satisfied: pandas>=1.2 in c:\\users\\asus\\appdata\\local\\programs\\python\\python312\\lib\\site-packages (from seaborn) (2.1.4)\n",
      "Requirement already satisfied: matplotlib!=3.6.1,>=3.4 in c:\\users\\asus\\appdata\\local\\programs\\python\\python312\\lib\\site-packages (from seaborn) (3.8.2)\n",
      "Requirement already satisfied: contourpy>=1.0.1 in c:\\users\\asus\\appdata\\local\\programs\\python\\python312\\lib\\site-packages (from matplotlib!=3.6.1,>=3.4->seaborn) (1.2.0)\n",
      "Requirement already satisfied: cycler>=0.10 in c:\\users\\asus\\appdata\\local\\programs\\python\\python312\\lib\\site-packages (from matplotlib!=3.6.1,>=3.4->seaborn) (0.12.1)\n",
      "Requirement already satisfied: fonttools>=4.22.0 in c:\\users\\asus\\appdata\\local\\programs\\python\\python312\\lib\\site-packages (from matplotlib!=3.6.1,>=3.4->seaborn) (4.47.0)\n",
      "Requirement already satisfied: kiwisolver>=1.3.1 in c:\\users\\asus\\appdata\\local\\programs\\python\\python312\\lib\\site-packages (from matplotlib!=3.6.1,>=3.4->seaborn) (1.4.5)\n",
      "Requirement already satisfied: packaging>=20.0 in c:\\users\\asus\\appdata\\local\\programs\\python\\python312\\lib\\site-packages (from matplotlib!=3.6.1,>=3.4->seaborn) (23.2)\n",
      "Requirement already satisfied: pillow>=8 in c:\\users\\asus\\appdata\\local\\programs\\python\\python312\\lib\\site-packages (from matplotlib!=3.6.1,>=3.4->seaborn) (10.1.0)\n",
      "Requirement already satisfied: pyparsing>=2.3.1 in c:\\users\\asus\\appdata\\local\\programs\\python\\python312\\lib\\site-packages (from matplotlib!=3.6.1,>=3.4->seaborn) (3.1.1)\n",
      "Requirement already satisfied: python-dateutil>=2.7 in c:\\users\\asus\\appdata\\local\\programs\\python\\python312\\lib\\site-packages (from matplotlib!=3.6.1,>=3.4->seaborn) (2.8.2)\n",
      "Requirement already satisfied: pytz>=2020.1 in c:\\users\\asus\\appdata\\local\\programs\\python\\python312\\lib\\site-packages (from pandas>=1.2->seaborn) (2023.3.post1)\n",
      "Requirement already satisfied: tzdata>=2022.1 in c:\\users\\asus\\appdata\\local\\programs\\python\\python312\\lib\\site-packages (from pandas>=1.2->seaborn) (2023.3)\n",
      "Requirement already satisfied: six>=1.5 in c:\\users\\asus\\appdata\\local\\programs\\python\\python312\\lib\\site-packages (from python-dateutil>=2.7->matplotlib!=3.6.1,>=3.4->seaborn) (1.16.0)\n"
     ]
    }
   ],
   "source": [
    "pip install seaborn"
   ]
  },
  {
   "cell_type": "code",
   "execution_count": 39,
   "id": "944b86f0",
   "metadata": {},
   "outputs": [],
   "source": [
    "import numpy as np\n",
    "import pandas as pd\n",
    "import seaborn as sns\n",
    "import matplotlib.pyplot as plt"
   ]
  },
  {
   "cell_type": "code",
   "execution_count": 40,
   "id": "1e006a46",
   "metadata": {},
   "outputs": [],
   "source": [
    "df = pd.read_csv(\"C:\\\\Users\\\\asus\\\\Downloads\\\\People Data.csv\")"
   ]
  },
  {
   "cell_type": "code",
   "execution_count": 41,
   "id": "88d771ba",
   "metadata": {},
   "outputs": [
    {
     "data": {
      "text/html": [
       "<div>\n",
       "<style scoped>\n",
       "    .dataframe tbody tr th:only-of-type {\n",
       "        vertical-align: middle;\n",
       "    }\n",
       "\n",
       "    .dataframe tbody tr th {\n",
       "        vertical-align: top;\n",
       "    }\n",
       "\n",
       "    .dataframe thead th {\n",
       "        text-align: right;\n",
       "    }\n",
       "</style>\n",
       "<table border=\"1\" class=\"dataframe\">\n",
       "  <thead>\n",
       "    <tr style=\"text-align: right;\">\n",
       "      <th></th>\n",
       "      <th>Index</th>\n",
       "      <th>User Id</th>\n",
       "      <th>First Name</th>\n",
       "      <th>Last Name</th>\n",
       "      <th>Gender</th>\n",
       "      <th>Email</th>\n",
       "      <th>Phone</th>\n",
       "      <th>Date of birth</th>\n",
       "      <th>Job Title</th>\n",
       "      <th>Salary</th>\n",
       "    </tr>\n",
       "  </thead>\n",
       "  <tbody>\n",
       "    <tr>\n",
       "      <th>0</th>\n",
       "      <td>1</td>\n",
       "      <td>8717bbf45cCDbEe</td>\n",
       "      <td>Shelia</td>\n",
       "      <td>Mahoney</td>\n",
       "      <td>Male</td>\n",
       "      <td>pwarner@example.org</td>\n",
       "      <td>857.139.8239</td>\n",
       "      <td>27-01-2014</td>\n",
       "      <td>Probation officer</td>\n",
       "      <td>90000</td>\n",
       "    </tr>\n",
       "    <tr>\n",
       "      <th>1</th>\n",
       "      <td>2</td>\n",
       "      <td>3d5AD30A4cD38ed</td>\n",
       "      <td>Jo</td>\n",
       "      <td>Rivers</td>\n",
       "      <td>Female</td>\n",
       "      <td>fergusonkatherine@example.net</td>\n",
       "      <td>NaN</td>\n",
       "      <td>26-07-1931</td>\n",
       "      <td>Dancer</td>\n",
       "      <td>80000</td>\n",
       "    </tr>\n",
       "    <tr>\n",
       "      <th>2</th>\n",
       "      <td>3</td>\n",
       "      <td>810Ce0F276Badec</td>\n",
       "      <td>Sheryl</td>\n",
       "      <td>Lowery</td>\n",
       "      <td>Female</td>\n",
       "      <td>fhoward@example.org</td>\n",
       "      <td>(599)782-0605</td>\n",
       "      <td>25-11-2013</td>\n",
       "      <td>Copy</td>\n",
       "      <td>50000</td>\n",
       "    </tr>\n",
       "    <tr>\n",
       "      <th>3</th>\n",
       "      <td>4</td>\n",
       "      <td>BF2a889C00f0cE1</td>\n",
       "      <td>Whitney</td>\n",
       "      <td>Hooper</td>\n",
       "      <td>Male</td>\n",
       "      <td>zjohnston@example.com</td>\n",
       "      <td>NaN</td>\n",
       "      <td>17-11-2012</td>\n",
       "      <td>Counselling psychologist</td>\n",
       "      <td>65000</td>\n",
       "    </tr>\n",
       "    <tr>\n",
       "      <th>4</th>\n",
       "      <td>5</td>\n",
       "      <td>9afFEafAe1CBBB9</td>\n",
       "      <td>Lindsey</td>\n",
       "      <td>Rice</td>\n",
       "      <td>Female</td>\n",
       "      <td>elin@example.net</td>\n",
       "      <td>(390)417-1635x3010</td>\n",
       "      <td>15-04-1923</td>\n",
       "      <td>Biomedical engineer</td>\n",
       "      <td>100000</td>\n",
       "    </tr>\n",
       "    <tr>\n",
       "      <th>...</th>\n",
       "      <td>...</td>\n",
       "      <td>...</td>\n",
       "      <td>...</td>\n",
       "      <td>...</td>\n",
       "      <td>...</td>\n",
       "      <td>...</td>\n",
       "      <td>...</td>\n",
       "      <td>...</td>\n",
       "      <td>...</td>\n",
       "      <td>...</td>\n",
       "    </tr>\n",
       "    <tr>\n",
       "      <th>995</th>\n",
       "      <td>996</td>\n",
       "      <td>fedF4c7Fd9e7cFa</td>\n",
       "      <td>Kurt</td>\n",
       "      <td>Bryant</td>\n",
       "      <td>Female</td>\n",
       "      <td>lyonsdaisy@example.net</td>\n",
       "      <td>021.775.2933</td>\n",
       "      <td>05-01-1959</td>\n",
       "      <td>Personnel officer</td>\n",
       "      <td>90000</td>\n",
       "    </tr>\n",
       "    <tr>\n",
       "      <th>996</th>\n",
       "      <td>997</td>\n",
       "      <td>ECddaFEDdEc4FAB</td>\n",
       "      <td>Donna</td>\n",
       "      <td>Barry</td>\n",
       "      <td>Female</td>\n",
       "      <td>dariusbryan@example.com</td>\n",
       "      <td>001-149-710-7799x721</td>\n",
       "      <td>06-10-2001</td>\n",
       "      <td>Education administrator</td>\n",
       "      <td>50000</td>\n",
       "    </tr>\n",
       "    <tr>\n",
       "      <th>997</th>\n",
       "      <td>998</td>\n",
       "      <td>2adde51d8B8979E</td>\n",
       "      <td>Cathy</td>\n",
       "      <td>Mckinney</td>\n",
       "      <td>Female</td>\n",
       "      <td>georgechan@example.org</td>\n",
       "      <td>+1-750-774-4128x33265</td>\n",
       "      <td>13-05-1918</td>\n",
       "      <td>Commercial/residential surveyor</td>\n",
       "      <td>60000</td>\n",
       "    </tr>\n",
       "    <tr>\n",
       "      <th>998</th>\n",
       "      <td>999</td>\n",
       "      <td>Fb2FE369D1E171A</td>\n",
       "      <td>Jermaine</td>\n",
       "      <td>Phelps</td>\n",
       "      <td>Male</td>\n",
       "      <td>wanda04@example.net</td>\n",
       "      <td>(915)292-2254</td>\n",
       "      <td>31-08-1971</td>\n",
       "      <td>Ambulance person</td>\n",
       "      <td>100000</td>\n",
       "    </tr>\n",
       "    <tr>\n",
       "      <th>999</th>\n",
       "      <td>1000</td>\n",
       "      <td>8b756f6231DDC6e</td>\n",
       "      <td>Lee</td>\n",
       "      <td>Tran</td>\n",
       "      <td>Female</td>\n",
       "      <td>deannablack@example.org</td>\n",
       "      <td>079.752.5424x67259</td>\n",
       "      <td>24-01-1947</td>\n",
       "      <td>Nurse, learning disability</td>\n",
       "      <td>90000</td>\n",
       "    </tr>\n",
       "  </tbody>\n",
       "</table>\n",
       "<p>1000 rows × 10 columns</p>\n",
       "</div>"
      ],
      "text/plain": [
       "     Index          User Id First Name Last Name  Gender  \\\n",
       "0        1  8717bbf45cCDbEe     Shelia   Mahoney    Male   \n",
       "1        2  3d5AD30A4cD38ed         Jo    Rivers  Female   \n",
       "2        3  810Ce0F276Badec     Sheryl    Lowery  Female   \n",
       "3        4  BF2a889C00f0cE1    Whitney    Hooper    Male   \n",
       "4        5  9afFEafAe1CBBB9    Lindsey      Rice  Female   \n",
       "..     ...              ...        ...       ...     ...   \n",
       "995    996  fedF4c7Fd9e7cFa       Kurt    Bryant  Female   \n",
       "996    997  ECddaFEDdEc4FAB      Donna     Barry  Female   \n",
       "997    998  2adde51d8B8979E      Cathy  Mckinney  Female   \n",
       "998    999  Fb2FE369D1E171A   Jermaine    Phelps    Male   \n",
       "999   1000  8b756f6231DDC6e        Lee      Tran  Female   \n",
       "\n",
       "                             Email                  Phone Date of birth  \\\n",
       "0              pwarner@example.org           857.139.8239    27-01-2014   \n",
       "1    fergusonkatherine@example.net                    NaN    26-07-1931   \n",
       "2              fhoward@example.org          (599)782-0605    25-11-2013   \n",
       "3            zjohnston@example.com                    NaN    17-11-2012   \n",
       "4                 elin@example.net     (390)417-1635x3010    15-04-1923   \n",
       "..                             ...                    ...           ...   \n",
       "995         lyonsdaisy@example.net           021.775.2933    05-01-1959   \n",
       "996        dariusbryan@example.com   001-149-710-7799x721    06-10-2001   \n",
       "997         georgechan@example.org  +1-750-774-4128x33265    13-05-1918   \n",
       "998            wanda04@example.net          (915)292-2254    31-08-1971   \n",
       "999        deannablack@example.org     079.752.5424x67259    24-01-1947   \n",
       "\n",
       "                           Job Title  Salary  \n",
       "0                  Probation officer   90000  \n",
       "1                             Dancer   80000  \n",
       "2                               Copy   50000  \n",
       "3           Counselling psychologist   65000  \n",
       "4                Biomedical engineer  100000  \n",
       "..                               ...     ...  \n",
       "995                Personnel officer   90000  \n",
       "996          Education administrator   50000  \n",
       "997  Commercial/residential surveyor   60000  \n",
       "998                 Ambulance person  100000  \n",
       "999       Nurse, learning disability   90000  \n",
       "\n",
       "[1000 rows x 10 columns]"
      ]
     },
     "execution_count": 41,
     "metadata": {},
     "output_type": "execute_result"
    }
   ],
   "source": [
    "df"
   ]
  },
  {
   "cell_type": "markdown",
   "id": "38e441e6",
   "metadata": {},
   "source": [
    "##  Q1. Demonstrate three different methods for creating identical 2D arrays in NumPy. Provide the code for each method and the final output after each method."
   ]
  },
  {
   "cell_type": "code",
   "execution_count": 42,
   "id": "655d7ce4",
   "metadata": {},
   "outputs": [],
   "source": [
    "# Method 1: Using np.array() with a list of lists"
   ]
  },
  {
   "cell_type": "code",
   "execution_count": 43,
   "id": "0911db07",
   "metadata": {},
   "outputs": [
    {
     "name": "stdout",
     "output_type": "stream",
     "text": [
      "Array 1 (using np.array):\n",
      "[[1 0]\n",
      " [0 1]]\n"
     ]
    }
   ],
   "source": [
    "# Define the data as a list of lists\n",
    "data = [[1, 0], [0, 1]]\n",
    "\n",
    "# Create the array using np.array()\n",
    "array_1 = np.array(data)\n",
    "\n",
    "# Print the array\n",
    "print(\"Array 1 (using np.array):\")\n",
    "print(array_1)\n"
   ]
  },
  {
   "cell_type": "code",
   "execution_count": 44,
   "id": "71fe608b",
   "metadata": {},
   "outputs": [],
   "source": [
    "# Method 2: Using np.identical function"
   ]
  },
  {
   "cell_type": "code",
   "execution_count": 45,
   "id": "7d1ac8cd",
   "metadata": {},
   "outputs": [
    {
     "name": "stdout",
     "output_type": "stream",
     "text": [
      "[[1 0 0 0 0]\n",
      " [0 1 0 0 0]\n",
      " [0 0 1 0 0]\n",
      " [0 0 0 1 0]\n",
      " [0 0 0 0 1]]\n"
     ]
    }
   ],
   "source": [
    "dimension = int(input('Enter the dimension of identity matrix: '))\n",
    "identity_matrix = np.identity(dimension,dtype=\"int\")\n",
    "print(identity_matrix)"
   ]
  },
  {
   "cell_type": "code",
   "execution_count": 46,
   "id": "718e2ea6",
   "metadata": {},
   "outputs": [
    {
     "name": "stdout",
     "output_type": "stream",
     "text": [
      "[[1 0 0]\n",
      " [0 1 0]\n",
      " [0 0 1]]\n"
     ]
    }
   ],
   "source": [
    "# create a 1D array with 1s in the diagonal\n",
    "arr=np.array([1,0,0,0,1,0,0,0,1])\n",
    "#reshape the array into 3*3 matrix\n",
    "matrix=arr.reshape(3,3)\n",
    "print(matrix)"
   ]
  },
  {
   "cell_type": "code",
   "execution_count": null,
   "id": "4d07b697",
   "metadata": {},
   "outputs": [],
   "source": []
  },
  {
   "cell_type": "markdown",
   "id": "41b4715e",
   "metadata": {},
   "source": [
    "## 2. Using the Numpy function, generate an array of 100 evenly spaced numbers between 1 and 10 and Reshape that 1D array into a 2D array."
   ]
  },
  {
   "cell_type": "code",
   "execution_count": 47,
   "id": "215b7197",
   "metadata": {},
   "outputs": [
    {
     "name": "stdout",
     "output_type": "stream",
     "text": [
      "Reshaped array (10x10 square):\n",
      "[[ 1.          1.09090909  1.18181818  1.27272727  1.36363636  1.45454545\n",
      "   1.54545455  1.63636364  1.72727273  1.81818182]\n",
      " [ 1.90909091  2.          2.09090909  2.18181818  2.27272727  2.36363636\n",
      "   2.45454545  2.54545455  2.63636364  2.72727273]\n",
      " [ 2.81818182  2.90909091  3.          3.09090909  3.18181818  3.27272727\n",
      "   3.36363636  3.45454545  3.54545455  3.63636364]\n",
      " [ 3.72727273  3.81818182  3.90909091  4.          4.09090909  4.18181818\n",
      "   4.27272727  4.36363636  4.45454545  4.54545455]\n",
      " [ 4.63636364  4.72727273  4.81818182  4.90909091  5.          5.09090909\n",
      "   5.18181818  5.27272727  5.36363636  5.45454545]\n",
      " [ 5.54545455  5.63636364  5.72727273  5.81818182  5.90909091  6.\n",
      "   6.09090909  6.18181818  6.27272727  6.36363636]\n",
      " [ 6.45454545  6.54545455  6.63636364  6.72727273  6.81818182  6.90909091\n",
      "   7.          7.09090909  7.18181818  7.27272727]\n",
      " [ 7.36363636  7.45454545  7.54545455  7.63636364  7.72727273  7.81818182\n",
      "   7.90909091  8.          8.09090909  8.18181818]\n",
      " [ 8.27272727  8.36363636  8.45454545  8.54545455  8.63636364  8.72727273\n",
      "   8.81818182  8.90909091  9.          9.09090909]\n",
      " [ 9.18181818  9.27272727  9.36363636  9.45454545  9.54545455  9.63636364\n",
      "   9.72727273  9.81818182  9.90909091 10.        ]]\n"
     ]
    }
   ],
   "source": [
    "# Define the start (1), end (10), and number of elements (100)\n",
    "start = 1\n",
    "end = 10\n",
    "num_elements = 100\n",
    "\n",
    "# Generate evenly spaced numbers using np.linspace\n",
    "arr = np.linspace(start, end, num_elements)\n",
    "\n",
    "# Reshape options for 2D array:\n",
    "\n",
    "# Reshape into a 10x10 square (requires num_elements to be a perfect square)\n",
    "if num_elements % 10 == 0:\n",
    "    rows, cols = 10, 10\n",
    "    reshaped_arr = arr.reshape(rows, cols)\n",
    "    print(\"Reshaped array (10x10 square):\")\n",
    "    print(reshaped_arr)\n",
    "else:\n",
    "    print(\"Cannot reshape into a 10x10 square as the number of elements is not a perfect square.\")"
   ]
  },
  {
   "cell_type": "code",
   "execution_count": null,
   "id": "b9d067c1",
   "metadata": {},
   "outputs": [],
   "source": []
  },
  {
   "cell_type": "markdown",
   "id": "68cc4639",
   "metadata": {},
   "source": [
    "## Q3 Explain the following terms : \n",
    " The difference in np.array, np.asarray and np.asanyarray .\n",
    " \n",
    " The difference between Deep copy and shallow copy ."
   ]
  },
  {
   "cell_type": "code",
   "execution_count": 48,
   "id": "eea1caa3",
   "metadata": {},
   "outputs": [],
   "source": [
    "#The difference in np.array, np.asarray and np.asanyarray .\n",
    "\n",
    "# 1. np.array - By default, it creates a copy of the input data, even if the input is already a NumPy array.\n",
    "# 2. np.asarray - It tries to avoid creating a copy of the input data if possible. This means if the input is already a suitable NumPy array, it will return a view of the original array, improving efficiency.\n",
    "# 3. np.asanyarray - It behaves similarly to np.asarray in terms of trying to avoid copying data."
   ]
  },
  {
   "cell_type": "code",
   "execution_count": 17,
   "id": "5f2c2d86",
   "metadata": {},
   "outputs": [],
   "source": [
    "# The difference between Deep copy and shallow copy .\n",
    "\n",
    "# 1. Shallow Copy: Creates a new object that has references (memory addresses) to the same elements as the original object.\n",
    "#                  Changes made to the copied elements will also be reflected in the original object since they point to the same data in memory.\n",
    "\n",
    "# 2. Deep Copy: Creates a completely new and independent object with its own copies of the elements from the original object.\n",
    "#               Changes made to the copied elements won't affect the original object as they have separate copies of the data."
   ]
  },
  {
   "cell_type": "code",
   "execution_count": null,
   "id": "73440eea",
   "metadata": {},
   "outputs": [],
   "source": []
  },
  {
   "cell_type": "markdown",
   "id": "97ef0702",
   "metadata": {},
   "source": [
    "# 4. Generate a 3x3 array with random floating-point numbers between 5 and 20. then round each number in the array to 2 place decimal"
   ]
  },
  {
   "cell_type": "code",
   "execution_count": 49,
   "id": "a91a6219",
   "metadata": {},
   "outputs": [
    {
     "name": "stdout",
     "output_type": "stream",
     "text": [
      "Rounded array (2 decimal places):\n",
      "[[ 8.65 12.41 12.44]\n",
      " [ 5.86 15.36 12.28]\n",
      " [ 6.88 14.37 12.66]]\n"
     ]
    }
   ],
   "source": [
    "import numpy as np\n",
    "\n",
    "# Define the array shape (3x3)\n",
    "rows, cols = 3, 3\n",
    "\n",
    "# Generate random floats between 5 and 20 (inclusive)\n",
    "arr = np.random.rand(rows, cols) * (20 - 5) + 5\n",
    "\n",
    "# Round each element to 2 decimal places using round()\n",
    "rounded_arr = np.round(arr, decimals=2)\n",
    "\n",
    "# Print the rounded array\n",
    "print(\"Rounded array (2 decimal places):\")\n",
    "print(rounded_arr)\n"
   ]
  },
  {
   "cell_type": "code",
   "execution_count": null,
   "id": "554b393d",
   "metadata": {},
   "outputs": [],
   "source": []
  },
  {
   "cell_type": "code",
   "execution_count": 50,
   "id": "027188d8",
   "metadata": {},
   "outputs": [
    {
     "name": "stdout",
     "output_type": "stream",
     "text": [
      "[[14.10185411 11.13692307  5.39132495]\n",
      " [17.45826436 16.57018335 14.00537061]\n",
      " [13.79546302 17.58428079 18.57022167]]\n"
     ]
    }
   ],
   "source": [
    "# Define the array shape (3x3)\n",
    "rows, cols = 3, 3\n",
    "\n",
    "# Generate random floats between 5 and 20 (inclusive)\n",
    "arr = np.random.rand(rows, cols)* (20 - 5) + 5\n",
    "print(arr)"
   ]
  },
  {
   "cell_type": "code",
   "execution_count": null,
   "id": "30dfd580",
   "metadata": {},
   "outputs": [],
   "source": []
  },
  {
   "cell_type": "markdown",
   "id": "6e3cc998",
   "metadata": {},
   "source": [
    "# 5. Create a NumPy array with random integers between 1 and 10 of shape (5, 6) After creating the array \n",
    "perform the following operations:\n",
    "\n",
    " a)Extract all even integers from array.\n",
    "\n",
    " b)Extract all odd integers from array"
   ]
  },
  {
   "cell_type": "code",
   "execution_count": 52,
   "id": "26fc3e0e",
   "metadata": {},
   "outputs": [
    {
     "name": "stdout",
     "output_type": "stream",
     "text": [
      "Original array:\n",
      "[[ 4  9  1  4  9  3]\n",
      " [ 7  1  7  2  3  1]\n",
      " [ 8  3  8  6  1  2]\n",
      " [ 6  1  9  7  7  2]\n",
      " [ 3  7  8 10  6 10]]\n",
      "\n",
      "Even numbers:\n",
      "[ 4  4  2  8  8  6  2  6  2  8 10  6 10]\n",
      "\n",
      "odd numbers:\n",
      "[9 1 9 3 7 1 7 3 1 3 1 1 9 7 7 3 7]\n"
     ]
    }
   ],
   "source": [
    "row,col= 5,6\n",
    "arr = np.random.randint(1,11,size=(row,col))\n",
    "\n",
    "# Extract even numbers using boolean indexing\n",
    "even_numbers = arr[arr % 2 == 0]\n",
    "\n",
    "# Extract odd numbers using boolean indexing\n",
    "odd_numbers = arr[arr % 2 != 0]\n",
    "\n",
    "# Print the original array\n",
    "print(\"Original array:\")\n",
    "print(arr)\n",
    "\n",
    "# Print the even numbers\n",
    "print(\"\\nEven numbers:\")\n",
    "print(even_numbers)\n",
    "\n",
    "# Print the odd numbers\n",
    "print(\"\\nodd numbers:\")\n",
    "print(odd_numbers)"
   ]
  },
  {
   "cell_type": "code",
   "execution_count": null,
   "id": "5275eff7",
   "metadata": {},
   "outputs": [],
   "source": []
  },
  {
   "cell_type": "markdown",
   "id": "20e82320",
   "metadata": {},
   "source": [
    "## 6. Create a 3D NumPy array of shape (3, 3, 3) containing random integers Petween 1 and 10. Perform the following operations:\n",
    "## a. Find the indices of the maximum values along each depth level (third axis).\n",
    "## b. Perform element-wise multiplication of between both array."
   ]
  },
  {
   "cell_type": "code",
   "execution_count": 53,
   "id": "c7dbb838",
   "metadata": {},
   "outputs": [
    {
     "name": "stdout",
     "output_type": "stream",
     "text": [
      "Original array:\n",
      "[[[ 5  8  6]\n",
      "  [ 6 10  9]\n",
      "  [ 8  9  5]]\n",
      "\n",
      " [[ 2  9  5]\n",
      "  [10 10  6]\n",
      "  [ 7  5  3]]\n",
      "\n",
      " [[10  3 10]\n",
      "  [ 6 10  9]\n",
      "  [ 6 10  2]]]\n",
      "\n",
      "Indices of maximum values along depth level:\n",
      "[[1 1 1]\n",
      " [1 0 0]\n",
      " [0 1 1]]\n"
     ]
    }
   ],
   "source": [
    "#a\n",
    "\n",
    "arr = np.random.randint(1,11,size=(3,3,3))\n",
    "# Find the index of the maximum value along the third axis (depth level)\n",
    "max_indices = np.argmax(arr, axis=2)\n",
    "\n",
    "# Print the original array\n",
    "print(\"Original array:\")\n",
    "print(arr)\n",
    "\n",
    "# Print the indices of the maximum values at each depth level\n",
    "print(\"\\nIndices of maximum values along depth level:\")\n",
    "print(max_indices)"
   ]
  },
  {
   "cell_type": "code",
   "execution_count": 54,
   "id": "ea997913",
   "metadata": {},
   "outputs": [
    {
     "name": "stdout",
     "output_type": "stream",
     "text": [
      "Array 1:\n",
      "[[[8 4 7]\n",
      "  [5 8 8]\n",
      "  [2 8 6]]\n",
      "\n",
      " [[3 1 6]\n",
      "  [9 2 3]\n",
      "  [5 4 2]]\n",
      "\n",
      " [[6 7 3]\n",
      "  [4 1 2]\n",
      "  [2 3 1]]]\n",
      "\n",
      "Array 2:\n",
      "[[[3 9 9]\n",
      "  [7 3 3]\n",
      "  [1 3 1]]\n",
      "\n",
      " [[6 3 2]\n",
      "  [2 6 5]\n",
      "  [9 6 8]]\n",
      "\n",
      " [[7 9 7]\n",
      "  [7 1 6]\n",
      "  [9 7 3]]]\n",
      "\n",
      "Element-wise product:\n",
      "[[[24 36 63]\n",
      "  [35 24 24]\n",
      "  [ 2 24  6]]\n",
      "\n",
      " [[18  3 12]\n",
      "  [18 12 15]\n",
      "  [45 24 16]]\n",
      "\n",
      " [[42 63 21]\n",
      "  [28  1 12]\n",
      "  [18 21  3]]]\n"
     ]
    }
   ],
   "source": [
    "# b \n",
    "\n",
    "import numpy as np\n",
    "\n",
    "# Define the array shape (3, 3, 3)\n",
    "shape = (3, 3, 3)\n",
    "\n",
    "# Generate random integers between 1 and 10 (inclusive) for two arrays\n",
    "arr1 = np.random.randint(1, 11, size=shape)\n",
    "arr2 = np.random.randint(1, 11, size=shape)\n",
    "\n",
    "# Perform element-wise multiplication using the * operator\n",
    "element_wise_product = arr1 * arr2\n",
    "\n",
    "# Print the original arrays and the element-wise product\n",
    "print(\"Array 1:\")\n",
    "print(arr1)\n",
    "\n",
    "print(\"\\nArray 2:\")\n",
    "print(arr2)\n",
    "\n",
    "print(\"\\nElement-wise product:\")\n",
    "print(element_wise_product)\n"
   ]
  },
  {
   "cell_type": "code",
   "execution_count": null,
   "id": "abcf2eed",
   "metadata": {},
   "outputs": [],
   "source": []
  },
  {
   "cell_type": "markdown",
   "id": "706789fe",
   "metadata": {},
   "source": [
    "## 7. Clean and transform the 'Phone' column in the sample dataset to remove non-numeric characters and convert it to a numeric data type. Also display the table attributes and data types of each column."
   ]
  },
  {
   "cell_type": "code",
   "execution_count": 55,
   "id": "c319c38d",
   "metadata": {},
   "outputs": [],
   "source": [
    "df=df.dropna(subset=['Phone'])"
   ]
  },
  {
   "cell_type": "code",
   "execution_count": 57,
   "id": "518b61fd",
   "metadata": {},
   "outputs": [
    {
     "data": {
      "text/plain": [
       "Phone\n",
       "857.139.8239            1\n",
       "4008095210              1\n",
       "(844)655-1890           1\n",
       "+1-104-262-6571x2783    1\n",
       "(162)296-2950           1\n",
       "                       ..\n",
       "309854071               1\n",
       "665.207.8772x57230      1\n",
       "950.519.1474x5235       1\n",
       "(113)014-7831x9464      1\n",
       "079.752.5424x67259      1\n",
       "Name: count, Length: 979, dtype: int64"
      ]
     },
     "execution_count": 57,
     "metadata": {},
     "output_type": "execute_result"
    }
   ],
   "source": [
    "df.Phone.value_counts()"
   ]
  },
  {
   "cell_type": "code",
   "execution_count": 58,
   "id": "a7b6e366",
   "metadata": {},
   "outputs": [
    {
     "name": "stderr",
     "output_type": "stream",
     "text": [
      "C:\\Users\\asus\\AppData\\Local\\Temp\\ipykernel_10676\\351260927.py:3: SettingWithCopyWarning: \n",
      "A value is trying to be set on a copy of a slice from a DataFrame.\n",
      "Try using .loc[row_indexer,col_indexer] = value instead\n",
      "\n",
      "See the caveats in the documentation: https://pandas.pydata.org/pandas-docs/stable/user_guide/indexing.html#returning-a-view-versus-a-copy\n",
      "  df['Phone']= df['Phone'].apply(lambda x: re.sub(r'\\D','',x))\n",
      "C:\\Users\\asus\\AppData\\Local\\Temp\\ipykernel_10676\\351260927.py:4: SettingWithCopyWarning: \n",
      "A value is trying to be set on a copy of a slice from a DataFrame.\n",
      "Try using .loc[row_indexer,col_indexer] = value instead\n",
      "\n",
      "See the caveats in the documentation: https://pandas.pydata.org/pandas-docs/stable/user_guide/indexing.html#returning-a-view-versus-a-copy\n",
      "  df['Phone'] = pd.to_numeric(df['Phone'])\n"
     ]
    }
   ],
   "source": [
    "import re\n",
    "\n",
    "df['Phone']= df['Phone'].apply(lambda x: re.sub(r'\\D','',x))\n",
    "df['Phone'] = pd.to_numeric(df['Phone'])"
   ]
  },
  {
   "cell_type": "code",
   "execution_count": 59,
   "id": "21ca316e",
   "metadata": {},
   "outputs": [
    {
     "data": {
      "text/plain": [
       "dtype('int64')"
      ]
     },
     "execution_count": 59,
     "metadata": {},
     "output_type": "execute_result"
    }
   ],
   "source": [
    "df['Phone'].dtypes"
   ]
  },
  {
   "cell_type": "code",
   "execution_count": null,
   "id": "71e8c945",
   "metadata": {},
   "outputs": [],
   "source": []
  },
  {
   "cell_type": "markdown",
   "id": "e508e085",
   "metadata": {},
   "source": [
    "## 8. Perform the following tasks using people dataset:\n",
    "\n",
    "## a) Read the 'data.csv' file using pandas, skipping the first 50 rows.\n",
    "\n",
    "## b) Only read the columns: 'Last Name', ‘Gender’,’Email’,‘Phone’ and ‘Salary’ from the file.\n",
    "\n",
    "## c) Display the first 10 rows of the filtered dataset.\n",
    "\n",
    "## d) Extract the ‘Salary’' column as a Series and display its last 5 values."
   ]
  },
  {
   "cell_type": "code",
   "execution_count": 86,
   "id": "8ae08f2c",
   "metadata": {},
   "outputs": [],
   "source": [
    "df = pd.read_csv(\"C:\\\\Users\\\\asus\\\\Downloads\\\\People Data.csv\")\n",
    "df_col = df[50:][['Last Name','Gender','Email','Phone','Salary']]"
   ]
  },
  {
   "cell_type": "code",
   "execution_count": 87,
   "id": "80ef4172",
   "metadata": {},
   "outputs": [
    {
     "data": {
      "text/plain": [
       "55    85000\n",
       "56    65000\n",
       "57    60000\n",
       "58    60000\n",
       "59    60000\n",
       "Name: Salary, dtype: int64"
      ]
     },
     "execution_count": 87,
     "metadata": {},
     "output_type": "execute_result"
    }
   ],
   "source": [
    "df_col_filter = df_col[0:10]\n",
    "df_col_filter_salary = df_col_filter['Salary']\n",
    "df_col_filter_salary[5:11]"
   ]
  },
  {
   "cell_type": "code",
   "execution_count": null,
   "id": "13bd8b33",
   "metadata": {},
   "outputs": [],
   "source": []
  },
  {
   "cell_type": "markdown",
   "id": "58f7f173",
   "metadata": {},
   "source": [
    "## 9. Filter and select rows from the People_Dataset, where the “Last Name' column contains the name 'Duke','Gender' column contains the word Female and ‘Salary’ should be less than 85000."
   ]
  },
  {
   "cell_type": "code",
   "execution_count": 88,
   "id": "45bb5949",
   "metadata": {},
   "outputs": [
    {
     "data": {
      "text/plain": [
       "0       90000\n",
       "1       80000\n",
       "2       50000\n",
       "3       65000\n",
       "4      100000\n",
       "        ...  \n",
       "995     90000\n",
       "996     50000\n",
       "997     60000\n",
       "998    100000\n",
       "999     90000\n",
       "Name: Salary, Length: 1000, dtype: int64"
      ]
     },
     "execution_count": 88,
     "metadata": {},
     "output_type": "execute_result"
    }
   ],
   "source": [
    "df['Salary']"
   ]
  },
  {
   "cell_type": "code",
   "execution_count": 89,
   "id": "c9673146",
   "metadata": {},
   "outputs": [],
   "source": [
    "df_filter = df[(df['Last Name']== 'Duke') & (df['Gender']=='Female') & (df['Salary']<=85000)]"
   ]
  },
  {
   "cell_type": "code",
   "execution_count": 90,
   "id": "3bc267ca",
   "metadata": {},
   "outputs": [
    {
     "data": {
      "text/html": [
       "<div>\n",
       "<style scoped>\n",
       "    .dataframe tbody tr th:only-of-type {\n",
       "        vertical-align: middle;\n",
       "    }\n",
       "\n",
       "    .dataframe tbody tr th {\n",
       "        vertical-align: top;\n",
       "    }\n",
       "\n",
       "    .dataframe thead th {\n",
       "        text-align: right;\n",
       "    }\n",
       "</style>\n",
       "<table border=\"1\" class=\"dataframe\">\n",
       "  <thead>\n",
       "    <tr style=\"text-align: right;\">\n",
       "      <th></th>\n",
       "      <th>Index</th>\n",
       "      <th>User Id</th>\n",
       "      <th>First Name</th>\n",
       "      <th>Last Name</th>\n",
       "      <th>Gender</th>\n",
       "      <th>Email</th>\n",
       "      <th>Phone</th>\n",
       "      <th>Date of birth</th>\n",
       "      <th>Job Title</th>\n",
       "      <th>Salary</th>\n",
       "    </tr>\n",
       "  </thead>\n",
       "  <tbody>\n",
       "    <tr>\n",
       "      <th>45</th>\n",
       "      <td>46</td>\n",
       "      <td>99A502C175C4EBd</td>\n",
       "      <td>Olivia</td>\n",
       "      <td>Duke</td>\n",
       "      <td>Female</td>\n",
       "      <td>diana26@example.net</td>\n",
       "      <td>001-366-475-8607x04350</td>\n",
       "      <td>13-10-1934</td>\n",
       "      <td>Dentist</td>\n",
       "      <td>60000</td>\n",
       "    </tr>\n",
       "    <tr>\n",
       "      <th>210</th>\n",
       "      <td>211</td>\n",
       "      <td>DF17975CC0a0373</td>\n",
       "      <td>Katrina</td>\n",
       "      <td>Duke</td>\n",
       "      <td>Female</td>\n",
       "      <td>robin78@example.com</td>\n",
       "      <td>740.434.0212</td>\n",
       "      <td>21-09-1935</td>\n",
       "      <td>Producer, radio</td>\n",
       "      <td>50000</td>\n",
       "    </tr>\n",
       "    <tr>\n",
       "      <th>457</th>\n",
       "      <td>458</td>\n",
       "      <td>dcE1B7DE83c1076</td>\n",
       "      <td>Traci</td>\n",
       "      <td>Duke</td>\n",
       "      <td>Female</td>\n",
       "      <td>perryhoffman@example.org</td>\n",
       "      <td>+1-903-596-0995x489</td>\n",
       "      <td>11-02-1997</td>\n",
       "      <td>Herbalist</td>\n",
       "      <td>50000</td>\n",
       "    </tr>\n",
       "    <tr>\n",
       "      <th>729</th>\n",
       "      <td>730</td>\n",
       "      <td>c9b482D7aa3e682</td>\n",
       "      <td>Lonnie</td>\n",
       "      <td>Duke</td>\n",
       "      <td>Female</td>\n",
       "      <td>kevinkramer@example.net</td>\n",
       "      <td>982.692.6257</td>\n",
       "      <td>12-05-2015</td>\n",
       "      <td>Nurse, adult</td>\n",
       "      <td>70000</td>\n",
       "    </tr>\n",
       "  </tbody>\n",
       "</table>\n",
       "</div>"
      ],
      "text/plain": [
       "     Index          User Id First Name Last Name  Gender  \\\n",
       "45      46  99A502C175C4EBd     Olivia      Duke  Female   \n",
       "210    211  DF17975CC0a0373    Katrina      Duke  Female   \n",
       "457    458  dcE1B7DE83c1076      Traci      Duke  Female   \n",
       "729    730  c9b482D7aa3e682     Lonnie      Duke  Female   \n",
       "\n",
       "                        Email                   Phone Date of birth  \\\n",
       "45        diana26@example.net  001-366-475-8607x04350    13-10-1934   \n",
       "210       robin78@example.com            740.434.0212    21-09-1935   \n",
       "457  perryhoffman@example.org     +1-903-596-0995x489    11-02-1997   \n",
       "729   kevinkramer@example.net            982.692.6257    12-05-2015   \n",
       "\n",
       "           Job Title  Salary  \n",
       "45           Dentist   60000  \n",
       "210  Producer, radio   50000  \n",
       "457        Herbalist   50000  \n",
       "729     Nurse, adult   70000  "
      ]
     },
     "execution_count": 90,
     "metadata": {},
     "output_type": "execute_result"
    }
   ],
   "source": [
    "df_filter"
   ]
  },
  {
   "cell_type": "code",
   "execution_count": null,
   "id": "b78c2319",
   "metadata": {},
   "outputs": [],
   "source": []
  },
  {
   "cell_type": "markdown",
   "id": "6881f14a",
   "metadata": {},
   "source": [
    "## 10. Create a 7*5 Dataframe in Pandas using a series generated from 35 random integers between 1 to 6?"
   ]
  },
  {
   "cell_type": "code",
   "execution_count": 91,
   "id": "69f6dbb3",
   "metadata": {},
   "outputs": [
    {
     "name": "stdout",
     "output_type": "stream",
     "text": [
      "[[4 4 2 6 3]\n",
      " [4 1 6 2 1]\n",
      " [2 4 4 6 5]\n",
      " [1 6 4 2 1]\n",
      " [6 1 1 6 1]\n",
      " [3 6 4 3 2]\n",
      " [5 2 5 4 6]]\n"
     ]
    }
   ],
   "source": [
    "# Generate 35 random integers between 1 and 6 (inclusive)\n",
    "random_series = np.random.randint(1, 7, size=35)\n",
    "\n",
    "# Reshape the series into a 7x5 DataFrame\n",
    "df_reshape = random_series.reshape(7, 5)\n",
    "\n",
    "# Print the DataFrame\n",
    "print(df_reshape)\n"
   ]
  },
  {
   "cell_type": "code",
   "execution_count": null,
   "id": "fc516cd4",
   "metadata": {},
   "outputs": [],
   "source": []
  },
  {
   "cell_type": "markdown",
   "id": "bc8d848f",
   "metadata": {},
   "source": [
    "## 11. Create two different Series, each of length 50, with the following criteria:\n",
    "\n",
    "## a) The first Series should contain random numbers ranging from 10 to 50.\n",
    "\n",
    "## b) The second Series should contain random numbers ranging from 100 to 1000.\n",
    "\n",
    "## c) Create a DataFrame by 'oining these Series by column, and, change the names of the columns to 'col1', 'col2', etc."
   ]
  },
  {
   "cell_type": "code",
   "execution_count": 92,
   "id": "7eaa61eb",
   "metadata": {},
   "outputs": [
    {
     "name": "stdout",
     "output_type": "stream",
     "text": [
      "    col1  col2\n",
      "0     50   801\n",
      "1     49   263\n",
      "2     22   241\n",
      "3     36   908\n",
      "4     37   397\n",
      "5     12   550\n",
      "6     42   222\n",
      "7     30   786\n",
      "8     45   289\n",
      "9     27   592\n",
      "10    47   433\n",
      "11    36   505\n",
      "12    30   663\n",
      "13    20   686\n",
      "14    22   272\n",
      "15    17   465\n",
      "16    18   166\n",
      "17    35   446\n",
      "18    26   249\n",
      "19    22   769\n",
      "20    12   348\n",
      "21    28   941\n",
      "22    10   479\n",
      "23    37   830\n",
      "24    12   191\n",
      "25    46   522\n",
      "26    44   768\n",
      "27    35   292\n",
      "28    29   642\n",
      "29    39   977\n",
      "30    17  1000\n",
      "31    41   482\n",
      "32    45   268\n",
      "33    17   751\n",
      "34    21   595\n",
      "35    50   429\n",
      "36    14   532\n",
      "37    45   407\n",
      "38    31   397\n",
      "39    27   674\n",
      "40    41   168\n",
      "41    17   493\n",
      "42    27   721\n",
      "43    29   102\n",
      "44    23   666\n",
      "45    33   291\n",
      "46    43   872\n",
      "47    14   828\n",
      "48    24   354\n",
      "49    34   687\n"
     ]
    }
   ],
   "source": [
    "# Define the desired length of the Series\n",
    "length = 50\n",
    "\n",
    "# Generate random integers for Series 1 (10 to 50)\n",
    "series_1 = pd.Series(np.random.randint(10, 51, size=length))\n",
    "\n",
    "# Generate random integers for Series 2 (100 to 1000)\n",
    "series_2 = pd.Series(np.random.randint(100, 1001, size=length))\n",
    "\n",
    "# Create a DataFrame by joining the Series as columns with clear column names\n",
    "df_new = pd.DataFrame(data={'col1': series_1, 'col2': series_2})\n",
    "\n",
    "# Print the resulting DataFrame\n",
    "print(df_new)"
   ]
  },
  {
   "cell_type": "code",
   "execution_count": null,
   "id": "dd139701",
   "metadata": {},
   "outputs": [],
   "source": []
  },
  {
   "cell_type": "markdown",
   "id": "f43c2341",
   "metadata": {},
   "source": [
    "## 12. Perform the following operations using people data set:\n",
    "\n",
    "## a) Delete the 'Email', 'Phone', and 'Date of birth' columns from the dataset.\n",
    "\n",
    "## b) Delete the rows containing any missing values.\n",
    "\n",
    "## c) Print the final output also."
   ]
  },
  {
   "cell_type": "code",
   "execution_count": 93,
   "id": "8ffd9b29",
   "metadata": {},
   "outputs": [
    {
     "data": {
      "text/html": [
       "<div>\n",
       "<style scoped>\n",
       "    .dataframe tbody tr th:only-of-type {\n",
       "        vertical-align: middle;\n",
       "    }\n",
       "\n",
       "    .dataframe tbody tr th {\n",
       "        vertical-align: top;\n",
       "    }\n",
       "\n",
       "    .dataframe thead th {\n",
       "        text-align: right;\n",
       "    }\n",
       "</style>\n",
       "<table border=\"1\" class=\"dataframe\">\n",
       "  <thead>\n",
       "    <tr style=\"text-align: right;\">\n",
       "      <th></th>\n",
       "      <th>Index</th>\n",
       "      <th>User Id</th>\n",
       "      <th>First Name</th>\n",
       "      <th>Last Name</th>\n",
       "      <th>Gender</th>\n",
       "      <th>Email</th>\n",
       "      <th>Phone</th>\n",
       "      <th>Date of birth</th>\n",
       "      <th>Job Title</th>\n",
       "      <th>Salary</th>\n",
       "    </tr>\n",
       "  </thead>\n",
       "  <tbody>\n",
       "    <tr>\n",
       "      <th>0</th>\n",
       "      <td>1</td>\n",
       "      <td>8717bbf45cCDbEe</td>\n",
       "      <td>Shelia</td>\n",
       "      <td>Mahoney</td>\n",
       "      <td>Male</td>\n",
       "      <td>pwarner@example.org</td>\n",
       "      <td>857.139.8239</td>\n",
       "      <td>27-01-2014</td>\n",
       "      <td>Probation officer</td>\n",
       "      <td>90000</td>\n",
       "    </tr>\n",
       "    <tr>\n",
       "      <th>1</th>\n",
       "      <td>2</td>\n",
       "      <td>3d5AD30A4cD38ed</td>\n",
       "      <td>Jo</td>\n",
       "      <td>Rivers</td>\n",
       "      <td>Female</td>\n",
       "      <td>fergusonkatherine@example.net</td>\n",
       "      <td>NaN</td>\n",
       "      <td>26-07-1931</td>\n",
       "      <td>Dancer</td>\n",
       "      <td>80000</td>\n",
       "    </tr>\n",
       "    <tr>\n",
       "      <th>2</th>\n",
       "      <td>3</td>\n",
       "      <td>810Ce0F276Badec</td>\n",
       "      <td>Sheryl</td>\n",
       "      <td>Lowery</td>\n",
       "      <td>Female</td>\n",
       "      <td>fhoward@example.org</td>\n",
       "      <td>(599)782-0605</td>\n",
       "      <td>25-11-2013</td>\n",
       "      <td>Copy</td>\n",
       "      <td>50000</td>\n",
       "    </tr>\n",
       "    <tr>\n",
       "      <th>3</th>\n",
       "      <td>4</td>\n",
       "      <td>BF2a889C00f0cE1</td>\n",
       "      <td>Whitney</td>\n",
       "      <td>Hooper</td>\n",
       "      <td>Male</td>\n",
       "      <td>zjohnston@example.com</td>\n",
       "      <td>NaN</td>\n",
       "      <td>17-11-2012</td>\n",
       "      <td>Counselling psychologist</td>\n",
       "      <td>65000</td>\n",
       "    </tr>\n",
       "    <tr>\n",
       "      <th>4</th>\n",
       "      <td>5</td>\n",
       "      <td>9afFEafAe1CBBB9</td>\n",
       "      <td>Lindsey</td>\n",
       "      <td>Rice</td>\n",
       "      <td>Female</td>\n",
       "      <td>elin@example.net</td>\n",
       "      <td>(390)417-1635x3010</td>\n",
       "      <td>15-04-1923</td>\n",
       "      <td>Biomedical engineer</td>\n",
       "      <td>100000</td>\n",
       "    </tr>\n",
       "    <tr>\n",
       "      <th>...</th>\n",
       "      <td>...</td>\n",
       "      <td>...</td>\n",
       "      <td>...</td>\n",
       "      <td>...</td>\n",
       "      <td>...</td>\n",
       "      <td>...</td>\n",
       "      <td>...</td>\n",
       "      <td>...</td>\n",
       "      <td>...</td>\n",
       "      <td>...</td>\n",
       "    </tr>\n",
       "    <tr>\n",
       "      <th>995</th>\n",
       "      <td>996</td>\n",
       "      <td>fedF4c7Fd9e7cFa</td>\n",
       "      <td>Kurt</td>\n",
       "      <td>Bryant</td>\n",
       "      <td>Female</td>\n",
       "      <td>lyonsdaisy@example.net</td>\n",
       "      <td>021.775.2933</td>\n",
       "      <td>05-01-1959</td>\n",
       "      <td>Personnel officer</td>\n",
       "      <td>90000</td>\n",
       "    </tr>\n",
       "    <tr>\n",
       "      <th>996</th>\n",
       "      <td>997</td>\n",
       "      <td>ECddaFEDdEc4FAB</td>\n",
       "      <td>Donna</td>\n",
       "      <td>Barry</td>\n",
       "      <td>Female</td>\n",
       "      <td>dariusbryan@example.com</td>\n",
       "      <td>001-149-710-7799x721</td>\n",
       "      <td>06-10-2001</td>\n",
       "      <td>Education administrator</td>\n",
       "      <td>50000</td>\n",
       "    </tr>\n",
       "    <tr>\n",
       "      <th>997</th>\n",
       "      <td>998</td>\n",
       "      <td>2adde51d8B8979E</td>\n",
       "      <td>Cathy</td>\n",
       "      <td>Mckinney</td>\n",
       "      <td>Female</td>\n",
       "      <td>georgechan@example.org</td>\n",
       "      <td>+1-750-774-4128x33265</td>\n",
       "      <td>13-05-1918</td>\n",
       "      <td>Commercial/residential surveyor</td>\n",
       "      <td>60000</td>\n",
       "    </tr>\n",
       "    <tr>\n",
       "      <th>998</th>\n",
       "      <td>999</td>\n",
       "      <td>Fb2FE369D1E171A</td>\n",
       "      <td>Jermaine</td>\n",
       "      <td>Phelps</td>\n",
       "      <td>Male</td>\n",
       "      <td>wanda04@example.net</td>\n",
       "      <td>(915)292-2254</td>\n",
       "      <td>31-08-1971</td>\n",
       "      <td>Ambulance person</td>\n",
       "      <td>100000</td>\n",
       "    </tr>\n",
       "    <tr>\n",
       "      <th>999</th>\n",
       "      <td>1000</td>\n",
       "      <td>8b756f6231DDC6e</td>\n",
       "      <td>Lee</td>\n",
       "      <td>Tran</td>\n",
       "      <td>Female</td>\n",
       "      <td>deannablack@example.org</td>\n",
       "      <td>079.752.5424x67259</td>\n",
       "      <td>24-01-1947</td>\n",
       "      <td>Nurse, learning disability</td>\n",
       "      <td>90000</td>\n",
       "    </tr>\n",
       "  </tbody>\n",
       "</table>\n",
       "<p>1000 rows × 10 columns</p>\n",
       "</div>"
      ],
      "text/plain": [
       "     Index          User Id First Name Last Name  Gender  \\\n",
       "0        1  8717bbf45cCDbEe     Shelia   Mahoney    Male   \n",
       "1        2  3d5AD30A4cD38ed         Jo    Rivers  Female   \n",
       "2        3  810Ce0F276Badec     Sheryl    Lowery  Female   \n",
       "3        4  BF2a889C00f0cE1    Whitney    Hooper    Male   \n",
       "4        5  9afFEafAe1CBBB9    Lindsey      Rice  Female   \n",
       "..     ...              ...        ...       ...     ...   \n",
       "995    996  fedF4c7Fd9e7cFa       Kurt    Bryant  Female   \n",
       "996    997  ECddaFEDdEc4FAB      Donna     Barry  Female   \n",
       "997    998  2adde51d8B8979E      Cathy  Mckinney  Female   \n",
       "998    999  Fb2FE369D1E171A   Jermaine    Phelps    Male   \n",
       "999   1000  8b756f6231DDC6e        Lee      Tran  Female   \n",
       "\n",
       "                             Email                  Phone Date of birth  \\\n",
       "0              pwarner@example.org           857.139.8239    27-01-2014   \n",
       "1    fergusonkatherine@example.net                    NaN    26-07-1931   \n",
       "2              fhoward@example.org          (599)782-0605    25-11-2013   \n",
       "3            zjohnston@example.com                    NaN    17-11-2012   \n",
       "4                 elin@example.net     (390)417-1635x3010    15-04-1923   \n",
       "..                             ...                    ...           ...   \n",
       "995         lyonsdaisy@example.net           021.775.2933    05-01-1959   \n",
       "996        dariusbryan@example.com   001-149-710-7799x721    06-10-2001   \n",
       "997         georgechan@example.org  +1-750-774-4128x33265    13-05-1918   \n",
       "998            wanda04@example.net          (915)292-2254    31-08-1971   \n",
       "999        deannablack@example.org     079.752.5424x67259    24-01-1947   \n",
       "\n",
       "                           Job Title  Salary  \n",
       "0                  Probation officer   90000  \n",
       "1                             Dancer   80000  \n",
       "2                               Copy   50000  \n",
       "3           Counselling psychologist   65000  \n",
       "4                Biomedical engineer  100000  \n",
       "..                               ...     ...  \n",
       "995                Personnel officer   90000  \n",
       "996          Education administrator   50000  \n",
       "997  Commercial/residential surveyor   60000  \n",
       "998                 Ambulance person  100000  \n",
       "999       Nurse, learning disability   90000  \n",
       "\n",
       "[1000 rows x 10 columns]"
      ]
     },
     "execution_count": 93,
     "metadata": {},
     "output_type": "execute_result"
    }
   ],
   "source": [
    "df"
   ]
  },
  {
   "cell_type": "code",
   "execution_count": 94,
   "id": "8cf1caf4",
   "metadata": {},
   "outputs": [
    {
     "name": "stdout",
     "output_type": "stream",
     "text": [
      "     Index          User Id First Name Last Name  Gender  \\\n",
      "0        1  8717bbf45cCDbEe     Shelia   Mahoney    Male   \n",
      "2        3  810Ce0F276Badec     Sheryl    Lowery  Female   \n",
      "4        5  9afFEafAe1CBBB9    Lindsey      Rice  Female   \n",
      "5        6  aF75e6dDEBC5b66     Sherry  Caldwell    Male   \n",
      "6        7  efeb05c7Cc94EA3     Ernest   Hoffman    Male   \n",
      "..     ...              ...        ...       ...     ...   \n",
      "995    996  fedF4c7Fd9e7cFa       Kurt    Bryant  Female   \n",
      "996    997  ECddaFEDdEc4FAB      Donna     Barry  Female   \n",
      "997    998  2adde51d8B8979E      Cathy  Mckinney  Female   \n",
      "998    999  Fb2FE369D1E171A   Jermaine    Phelps    Male   \n",
      "999   1000  8b756f6231DDC6e        Lee      Tran  Female   \n",
      "\n",
      "                       Email                  Phone Date of birth  \\\n",
      "0        pwarner@example.org           857.139.8239    27-01-2014   \n",
      "2        fhoward@example.org          (599)782-0605    25-11-2013   \n",
      "4           elin@example.net     (390)417-1635x3010    15-04-1923   \n",
      "5      kaitlin13@example.net             8537800927    06-08-1917   \n",
      "6     jeffharvey@example.com      093.655.7480x7895    22-12-1984   \n",
      "..                       ...                    ...           ...   \n",
      "995   lyonsdaisy@example.net           021.775.2933    05-01-1959   \n",
      "996  dariusbryan@example.com   001-149-710-7799x721    06-10-2001   \n",
      "997   georgechan@example.org  +1-750-774-4128x33265    13-05-1918   \n",
      "998      wanda04@example.net          (915)292-2254    31-08-1971   \n",
      "999  deannablack@example.org     079.752.5424x67259    24-01-1947   \n",
      "\n",
      "                           Job Title  Salary  \n",
      "0                  Probation officer   90000  \n",
      "2                               Copy   50000  \n",
      "4                Biomedical engineer  100000  \n",
      "5          Higher education lecturer   50000  \n",
      "6                     Health visitor   60000  \n",
      "..                               ...     ...  \n",
      "995                Personnel officer   90000  \n",
      "996          Education administrator   50000  \n",
      "997  Commercial/residential surveyor   60000  \n",
      "998                 Ambulance person  100000  \n",
      "999       Nurse, learning disability   90000  \n",
      "\n",
      "[979 rows x 10 columns]\n"
     ]
    }
   ],
   "source": [
    "# a) Delete the 'Email', 'Phone', and 'Date of birth' columns from the dataset.\n",
    "df_11 = df.drop(columns=['Email', 'Phone', 'Date of birth']) \n",
    "# b) Delete rows with missing values\n",
    "df_11 = df.dropna()\n",
    "# c) Print the final DataFrame\n",
    "print(df_11)\n"
   ]
  },
  {
   "cell_type": "code",
   "execution_count": null,
   "id": "f793e407",
   "metadata": {},
   "outputs": [],
   "source": []
  },
  {
   "cell_type": "markdown",
   "id": "96d676f8",
   "metadata": {},
   "source": [
    "## 13. Create two NumPy arrays, x and y, each containing 100 random float values between 0 and 1. Perform the following tasks using Matplotlib and NumPy:\n",
    "\n",
    "## a) Create a scatter plot using x and y, setting the color of the points to red and the marker style to 'o'.\n",
    "\n",
    "## b) Add a horizontal line at y = 0.5 using a dashed line style and label it as 'y = 0.5'.\n",
    "\n",
    "## c) Add a vertical line at x = 0.5 using a dotted line style and label it as 'x = 0.5'.\n",
    "\n",
    "## d) Label the x-axis as 'X-axis' and the y-axis as 'Y-axis'.\n",
    "\n",
    "## e) Set the title of the plot as 'Advanced Scatter Plot of Random Values'.\n",
    "\n",
    "## f) Display a legend for the scatter plot, the horizontal line, and the vertical line."
   ]
  },
  {
   "cell_type": "code",
   "execution_count": 69,
   "id": "23294e6e",
   "metadata": {},
   "outputs": [
    {
     "data": {
      "image/png": "[encoded data removed]",
      "text/plain": [
       "<Figure size 800x600 with 1 Axes>"
      ]
     },
     "metadata": {},
     "output_type": "display_data"
    }
   ],
   "source": [
    "x = np.random.rand(100)\n",
    "y = np.random.rand(100)\n",
    "\n",
    "# Create the scatter plot\n",
    "plt.figure(figsize=(8, 6)) \n",
    "\n",
    "# Scatter plot with red color and 'o' markers\n",
    "plt.scatter(x, y, c='red', marker='o')\n",
    "\n",
    "# Add horizontal line at y = 0.5 (dashed line)\n",
    "plt.axhline(y=0.5, color='gray', linestyle='--', label='y = 0.5')\n",
    "\n",
    "# Add vertical line at x = 0.5 (dotted line)\n",
    "plt.axvline(x=0.5, color='gray', linestyle='dotted', label='x = 0.5')\n",
    "\n",
    "# Label axes and set title\n",
    "plt.xlabel('X-axis')\n",
    "plt.ylabel('Y-axis')\n",
    "plt.title('Advanced Scatter Plot of Random Values')\n",
    "\n",
    "# Add legend for all elements\n",
    "plt.legend()\n",
    "\n",
    "# Display the plot\n",
    "plt.grid(True) \n",
    "plt.show()\n"
   ]
  },
  {
   "cell_type": "code",
   "execution_count": null,
   "id": "2af1981f",
   "metadata": {},
   "outputs": [],
   "source": []
  },
  {
   "cell_type": "markdown",
   "id": "56280ce3",
   "metadata": {},
   "source": [
    "## 14. Create a time-series dataset in a Pandas DataFrame with columns: 'Date', 'Temperature', 'Humidity' and Perform the following tasks using Matplotlib:\n",
    "## a) Plot the 'Temperature' and 'Humidity' on the same plot with different y-axes (left y-axis for 'Temperature' and right y-axis for 'Humidity').\n",
    "## b) Label the x-axis as 'Date'.\n",
    "## c) Set the title of the plot as 'Temperature and Humidity Over Time'."
   ]
  },
  {
   "cell_type": "code",
   "execution_count": 95,
   "id": "f0a7aae7",
   "metadata": {},
   "outputs": [
    {
     "data": {
      "image/png": "[encoded data removed]",
      "text/plain": [
       "<Figure size 1000x600 with 2 Axes>"
      ]
     },
     "metadata": {},
     "output_type": "display_data"
    }
   ],
   "source": [
    "# Sample data (replace with your actual data source)\n",
    "dates = pd.date_range(start='2023-01-01', periods=30)  \n",
    "temperature = np.random.randint(10, 30, size=30)  \n",
    "humidity = np.random.randint(30, 80, size=30)  \n",
    "# Create a DataFrame\n",
    "df = pd.DataFrame({'Date': dates, 'Temperature': temperature, 'Humidity': humidity})\n",
    "\n",
    "# Create the time-series plot\n",
    "fig, ax1 = plt.subplots(figsize=(10, 6)) \n",
    "\n",
    "# Primary y-axis for Temperature (left)\n",
    "ax1.plot(df['Date'], df['Temperature'], 'b-', label='Temperature (°C)')\n",
    "ax1.set_xlabel('Date')\n",
    "ax1.set_ylabel('Temperature (°C)', color='b')\n",
    "\n",
    "# Secondary y-axis for Humidity (right)\n",
    "ax2 = ax1.twinx() \n",
    "ax2.plot(df['Date'], df['Humidity'], 'g-', label='Humidity (%)')\n",
    "ax2.set_ylabel('Humidity (%)', color='g')\n",
    "\n",
    "# Title and legend\n",
    "plt.title('Temperature and Humidity Over Time')\n",
    "lines1, labels1 = ax1.get_legend_handles_labels()\n",
    "lines2, labels2 = ax2.get_legend_handles_labels()\n",
    "plt.legend(lines1 + lines2, labels1 + labels2, loc='upper left')\n",
    "\n",
    "plt.grid(True)\n",
    "plt.show()\n"
   ]
  },
  {
   "cell_type": "code",
   "execution_count": null,
   "id": "86212be9",
   "metadata": {},
   "outputs": [],
   "source": []
  },
  {
   "cell_type": "markdown",
   "id": "e2cc28f7",
   "metadata": {},
   "source": [
    "## 15. Create a NumPy array data containing 1000 samples from a normal distribution. Perform the following tasks using Matplotlib:\n",
    "## a) Plot a histogram of the data with 30 bins.\n",
    "## b) Overlay a line plot representing the normal distribution's probability density function (PDF).\n",
    "## c) Label the x-axis as 'Value' and the y-axis as 'Frequency/Probability'.\n",
    "## d) Set the title of the plot as 'Histogram with PDF Overlay'.\n"
   ]
  },
  {
   "cell_type": "code",
   "execution_count": 72,
   "id": "d8d9e249",
   "metadata": {},
   "outputs": [
    {
     "name": "stdout",
     "output_type": "stream",
     "text": [
      "Collecting scipy\n",
      "  Downloading scipy-1.13.1-cp312-cp312-win_amd64.whl.metadata (60 kB)\n",
      "     ---------------------------------------- 0.0/60.6 kB ? eta -:--:--\n",
      "     ------ --------------------------------- 10.2/60.6 kB ? eta -:--:--\n",
      "     ------------------- ------------------ 30.7/60.6 kB 262.6 kB/s eta 0:00:01\n",
      "     -------------------------------- ----- 51.2/60.6 kB 327.7 kB/s eta 0:00:01\n",
      "     -------------------------------------- 60.6/60.6 kB 359.6 kB/s eta 0:00:00\n",
      "Requirement already satisfied: numpy<2.3,>=1.22.4 in c:\\users\\asus\\appdata\\local\\programs\\python\\python312\\lib\\site-packages (from scipy) (1.26.2)\n",
      "Downloading scipy-1.13.1-cp312-cp312-win_amd64.whl (45.9 MB)\n",
      "   ---------------------------------------- 0.0/45.9 MB ? eta -:--:--\n",
      "   ---------------------------------------- 0.1/45.9 MB 1.7 MB/s eta 0:00:28\n",
      "   ---------------------------------------- 0.1/45.9 MB 1.7 MB/s eta 0:00:27\n",
      "   ---------------------------------------- 0.2/45.9 MB 1.7 MB/s eta 0:00:28\n",
      "   ---------------------------------------- 0.3/45.9 MB 1.8 MB/s eta 0:00:26\n",
      "   ---------------------------------------- 0.4/45.9 MB 1.9 MB/s eta 0:00:24\n",
      "   ---------------------------------------- 0.5/45.9 MB 2.0 MB/s eta 0:00:24\n",
      "    --------------------------------------- 0.7/45.9 MB 2.1 MB/s eta 0:00:22\n",
      "    --------------------------------------- 0.8/45.9 MB 2.2 MB/s eta 0:00:21\n",
      "    --------------------------------------- 0.9/45.9 MB 2.2 MB/s eta 0:00:21\n",
      "    --------------------------------------- 1.0/45.9 MB 2.1 MB/s eta 0:00:22\n",
      "    --------------------------------------- 1.1/45.9 MB 2.2 MB/s eta 0:00:21\n",
      "   - -------------------------------------- 1.3/45.9 MB 2.3 MB/s eta 0:00:20\n",
      "   - -------------------------------------- 1.4/45.9 MB 2.4 MB/s eta 0:00:19\n",
      "   - -------------------------------------- 1.6/45.9 MB 2.4 MB/s eta 0:00:19\n",
      "   - -------------------------------------- 1.7/45.9 MB 2.5 MB/s eta 0:00:18\n",
      "   - -------------------------------------- 1.9/45.9 MB 2.6 MB/s eta 0:00:17\n",
      "   - -------------------------------------- 2.2/45.9 MB 2.7 MB/s eta 0:00:16\n",
      "   - -------------------------------------- 2.3/45.9 MB 2.7 MB/s eta 0:00:17\n",
      "   -- ------------------------------------- 2.4/45.9 MB 2.8 MB/s eta 0:00:16\n",
      "   -- ------------------------------------- 2.7/45.9 MB 2.9 MB/s eta 0:00:16\n",
      "   -- ------------------------------------- 2.9/45.9 MB 2.9 MB/s eta 0:00:15\n",
      "   -- ------------------------------------- 3.1/45.9 MB 3.0 MB/s eta 0:00:15\n",
      "   -- ------------------------------------- 3.3/45.9 MB 3.1 MB/s eta 0:00:14\n",
      "   --- ------------------------------------ 3.5/45.9 MB 3.1 MB/s eta 0:00:14\n",
      "   --- ------------------------------------ 3.8/45.9 MB 3.2 MB/s eta 0:00:14\n",
      "   --- ------------------------------------ 4.0/45.9 MB 3.3 MB/s eta 0:00:13\n",
      "   --- ------------------------------------ 4.3/45.9 MB 3.4 MB/s eta 0:00:13\n",
      "   --- ------------------------------------ 4.4/45.9 MB 3.4 MB/s eta 0:00:13\n",
      "   ---- ----------------------------------- 4.7/45.9 MB 3.5 MB/s eta 0:00:12\n",
      "   ---- ----------------------------------- 5.0/45.9 MB 3.6 MB/s eta 0:00:12\n",
      "   ---- ----------------------------------- 5.3/45.9 MB 3.7 MB/s eta 0:00:12\n",
      "   ---- ----------------------------------- 5.6/45.9 MB 3.7 MB/s eta 0:00:11\n",
      "   ----- ---------------------------------- 5.8/45.9 MB 3.8 MB/s eta 0:00:11\n",
      "   ----- ---------------------------------- 6.1/45.9 MB 3.9 MB/s eta 0:00:11\n",
      "   ----- ---------------------------------- 6.1/45.9 MB 3.9 MB/s eta 0:00:11\n",
      "   ----- ---------------------------------- 6.3/45.9 MB 3.8 MB/s eta 0:00:11\n",
      "   ----- ---------------------------------- 6.6/45.9 MB 3.9 MB/s eta 0:00:11\n",
      "   ----- ---------------------------------- 6.9/45.9 MB 3.9 MB/s eta 0:00:11\n",
      "   ------ --------------------------------- 7.2/45.9 MB 4.0 MB/s eta 0:00:10\n",
      "   ------ --------------------------------- 7.4/45.9 MB 4.0 MB/s eta 0:00:10\n",
      "   ------ --------------------------------- 7.8/45.9 MB 4.0 MB/s eta 0:00:10\n",
      "   ------- -------------------------------- 8.1/45.9 MB 4.1 MB/s eta 0:00:10\n",
      "   ------- -------------------------------- 8.3/45.9 MB 4.1 MB/s eta 0:00:10\n",
      "   ------- -------------------------------- 8.6/45.9 MB 4.2 MB/s eta 0:00:09\n",
      "   ------- -------------------------------- 8.8/45.9 MB 4.2 MB/s eta 0:00:09\n",
      "   -------- ------------------------------- 9.2/45.9 MB 4.3 MB/s eta 0:00:09\n",
      "   -------- ------------------------------- 9.5/45.9 MB 4.3 MB/s eta 0:00:09\n",
      "   -------- ------------------------------- 9.8/45.9 MB 4.4 MB/s eta 0:00:09\n",
      "   -------- ------------------------------- 10.1/45.9 MB 4.3 MB/s eta 0:00:09\n",
      "   -------- ------------------------------- 10.3/45.9 MB 4.4 MB/s eta 0:00:09\n",
      "   --------- ------------------------------ 10.6/45.9 MB 4.6 MB/s eta 0:00:08\n",
      "   --------- ------------------------------ 10.8/45.9 MB 4.8 MB/s eta 0:00:08\n",
      "   --------- ------------------------------ 11.0/45.9 MB 4.9 MB/s eta 0:00:08\n",
      "   --------- ------------------------------ 11.3/45.9 MB 5.0 MB/s eta 0:00:07\n",
      "   --------- ------------------------------ 11.4/45.9 MB 5.0 MB/s eta 0:00:07\n",
      "   ---------- ----------------------------- 11.5/45.9 MB 5.0 MB/s eta 0:00:07\n",
      "   ---------- ----------------------------- 11.8/45.9 MB 5.0 MB/s eta 0:00:07\n",
      "   ---------- ----------------------------- 12.1/45.9 MB 5.1 MB/s eta 0:00:07\n",
      "   ---------- ----------------------------- 12.3/45.9 MB 5.2 MB/s eta 0:00:07\n",
      "   ----------- ---------------------------- 12.7/45.9 MB 5.3 MB/s eta 0:00:07\n",
      "   ----------- ---------------------------- 13.0/45.9 MB 5.4 MB/s eta 0:00:07\n",
      "   ----------- ---------------------------- 13.2/45.9 MB 5.4 MB/s eta 0:00:07\n",
      "   ----------- ---------------------------- 13.4/45.9 MB 5.5 MB/s eta 0:00:06\n",
      "   ----------- ---------------------------- 13.7/45.9 MB 5.5 MB/s eta 0:00:06\n",
      "   ------------ --------------------------- 14.0/45.9 MB 5.5 MB/s eta 0:00:06\n",
      "   ------------ --------------------------- 14.3/45.9 MB 5.5 MB/s eta 0:00:06\n",
      "   ------------ --------------------------- 14.5/45.9 MB 5.5 MB/s eta 0:00:06\n",
      "   ------------ --------------------------- 14.9/45.9 MB 5.6 MB/s eta 0:00:06\n",
      "   ------------- -------------------------- 15.1/45.9 MB 5.6 MB/s eta 0:00:06\n",
      "   ------------- -------------------------- 15.4/45.9 MB 5.6 MB/s eta 0:00:06\n",
      "   ------------- -------------------------- 15.7/45.9 MB 5.6 MB/s eta 0:00:06\n",
      "   ------------- -------------------------- 15.9/45.9 MB 5.6 MB/s eta 0:00:06\n",
      "   -------------- ------------------------- 16.3/45.9 MB 5.7 MB/s eta 0:00:06\n",
      "   -------------- ------------------------- 16.6/45.9 MB 5.8 MB/s eta 0:00:06\n",
      "   -------------- ------------------------- 16.9/45.9 MB 5.8 MB/s eta 0:00:05\n",
      "   -------------- ------------------------- 17.2/45.9 MB 5.9 MB/s eta 0:00:05\n",
      "   --------------- ------------------------ 17.4/45.9 MB 5.9 MB/s eta 0:00:05\n",
      "   --------------- ------------------------ 17.7/45.9 MB 5.9 MB/s eta 0:00:05\n",
      "   --------------- ------------------------ 18.0/45.9 MB 6.0 MB/s eta 0:00:05\n",
      "   --------------- ------------------------ 18.4/45.9 MB 5.9 MB/s eta 0:00:05\n",
      "   ---------------- ----------------------- 18.6/45.9 MB 6.0 MB/s eta 0:00:05\n",
      "   ---------------- ----------------------- 18.9/45.9 MB 6.0 MB/s eta 0:00:05\n",
      "   ---------------- ----------------------- 19.2/45.9 MB 6.0 MB/s eta 0:00:05\n",
      "   ---------------- ----------------------- 19.5/45.9 MB 6.0 MB/s eta 0:00:05\n",
      "   ----------------- ---------------------- 19.8/45.9 MB 6.0 MB/s eta 0:00:05\n",
      "   ----------------- ---------------------- 20.1/45.9 MB 6.0 MB/s eta 0:00:05\n",
      "   ----------------- ---------------------- 20.4/45.9 MB 6.1 MB/s eta 0:00:05\n",
      "   ----------------- ---------------------- 20.6/45.9 MB 6.1 MB/s eta 0:00:05\n",
      "   ------------------ --------------------- 20.9/45.9 MB 6.1 MB/s eta 0:00:05\n",
      "   ------------------ --------------------- 21.1/45.9 MB 6.1 MB/s eta 0:00:05\n",
      "   ------------------ --------------------- 21.5/45.9 MB 6.2 MB/s eta 0:00:04\n",
      "   ------------------ --------------------- 21.7/45.9 MB 6.3 MB/s eta 0:00:04\n",
      "   ------------------- -------------------- 22.0/45.9 MB 6.4 MB/s eta 0:00:04\n",
      "   ------------------- -------------------- 22.3/45.9 MB 6.4 MB/s eta 0:00:04\n",
      "   ------------------- -------------------- 22.6/45.9 MB 6.4 MB/s eta 0:00:04\n",
      "   ------------------- -------------------- 22.9/45.9 MB 6.4 MB/s eta 0:00:04\n",
      "   -------------------- ------------------- 23.2/45.9 MB 6.4 MB/s eta 0:00:04\n",
      "   -------------------- ------------------- 23.5/45.9 MB 6.4 MB/s eta 0:00:04\n",
      "   -------------------- ------------------- 23.7/45.9 MB 6.4 MB/s eta 0:00:04\n",
      "   -------------------- ------------------- 24.0/45.9 MB 6.5 MB/s eta 0:00:04\n",
      "   --------------------- ------------------ 24.3/45.9 MB 6.5 MB/s eta 0:00:04\n",
      "   --------------------- ------------------ 24.6/45.9 MB 6.5 MB/s eta 0:00:04\n",
      "   --------------------- ------------------ 24.9/45.9 MB 6.5 MB/s eta 0:00:04\n",
      "   --------------------- ------------------ 25.1/45.9 MB 6.4 MB/s eta 0:00:04\n",
      "   ---------------------- ----------------- 25.4/45.9 MB 6.5 MB/s eta 0:00:04\n",
      "   ---------------------- ----------------- 25.7/45.9 MB 6.4 MB/s eta 0:00:04\n",
      "   ---------------------- ----------------- 26.0/45.9 MB 6.5 MB/s eta 0:00:04\n",
      "   ---------------------- ----------------- 26.3/45.9 MB 6.4 MB/s eta 0:00:04\n",
      "   ----------------------- ---------------- 26.7/45.9 MB 6.4 MB/s eta 0:00:04\n",
      "   ----------------------- ---------------- 26.9/45.9 MB 6.4 MB/s eta 0:00:03\n",
      "   ----------------------- ---------------- 27.2/45.9 MB 6.4 MB/s eta 0:00:03\n",
      "   ----------------------- ---------------- 27.5/45.9 MB 6.4 MB/s eta 0:00:03\n",
      "   ------------------------ --------------- 27.8/45.9 MB 6.4 MB/s eta 0:00:03\n",
      "   ------------------------ --------------- 28.1/45.9 MB 6.4 MB/s eta 0:00:03\n",
      "   ------------------------ --------------- 28.4/45.9 MB 6.4 MB/s eta 0:00:03\n",
      "   ------------------------- -------------- 28.7/45.9 MB 6.4 MB/s eta 0:00:03\n",
      "   ------------------------- -------------- 29.0/45.9 MB 6.4 MB/s eta 0:00:03\n",
      "   ------------------------- -------------- 29.4/45.9 MB 6.4 MB/s eta 0:00:03\n",
      "   ------------------------- -------------- 29.7/45.9 MB 6.4 MB/s eta 0:00:03\n",
      "   -------------------------- ------------- 30.0/45.9 MB 6.4 MB/s eta 0:00:03\n",
      "   -------------------------- ------------- 30.3/45.9 MB 6.4 MB/s eta 0:00:03\n",
      "   -------------------------- ------------- 30.6/45.9 MB 6.4 MB/s eta 0:00:03\n",
      "   -------------------------- ------------- 30.8/45.9 MB 6.4 MB/s eta 0:00:03\n",
      "   --------------------------- ------------ 31.1/45.9 MB 6.3 MB/s eta 0:00:03\n",
      "   --------------------------- ------------ 31.4/45.9 MB 6.3 MB/s eta 0:00:03\n",
      "   --------------------------- ------------ 31.8/45.9 MB 6.3 MB/s eta 0:00:03\n",
      "   --------------------------- ------------ 32.1/45.9 MB 6.3 MB/s eta 0:00:03\n",
      "   ---------------------------- ----------- 32.4/45.9 MB 6.4 MB/s eta 0:00:03\n",
      "   ---------------------------- ----------- 32.7/45.9 MB 6.4 MB/s eta 0:00:03\n",
      "   ---------------------------- ----------- 33.0/45.9 MB 6.4 MB/s eta 0:00:03\n",
      "   ---------------------------- ----------- 33.3/45.9 MB 6.4 MB/s eta 0:00:02\n",
      "   ----------------------------- ---------- 33.6/45.9 MB 6.4 MB/s eta 0:00:02\n",
      "   ----------------------------- ---------- 33.9/45.9 MB 6.4 MB/s eta 0:00:02\n",
      "   ----------------------------- ---------- 34.1/45.9 MB 6.3 MB/s eta 0:00:02\n",
      "   ------------------------------ --------- 34.4/45.9 MB 6.3 MB/s eta 0:00:02\n",
      "   ------------------------------ --------- 34.8/45.9 MB 6.4 MB/s eta 0:00:02\n",
      "   ------------------------------ --------- 35.0/45.9 MB 6.3 MB/s eta 0:00:02\n",
      "   ------------------------------ --------- 35.3/45.9 MB 6.2 MB/s eta 0:00:02\n",
      "   ------------------------------- -------- 35.6/45.9 MB 6.3 MB/s eta 0:00:02\n",
      "   ------------------------------- -------- 35.9/45.9 MB 6.3 MB/s eta 0:00:02\n",
      "   ------------------------------- -------- 36.3/45.9 MB 6.3 MB/s eta 0:00:02\n",
      "   ------------------------------- -------- 36.6/45.9 MB 6.4 MB/s eta 0:00:02\n",
      "   -------------------------------- ------- 36.8/45.9 MB 6.3 MB/s eta 0:00:02\n",
      "   -------------------------------- ------- 37.1/45.9 MB 6.4 MB/s eta 0:00:02\n",
      "   -------------------------------- ------- 37.4/45.9 MB 6.3 MB/s eta 0:00:02\n",
      "   -------------------------------- ------- 37.7/45.9 MB 6.4 MB/s eta 0:00:02\n",
      "   --------------------------------- ------ 37.9/45.9 MB 6.4 MB/s eta 0:00:02\n",
      "   --------------------------------- ------ 38.3/45.9 MB 6.4 MB/s eta 0:00:02\n",
      "   --------------------------------- ------ 38.6/45.9 MB 6.4 MB/s eta 0:00:02\n",
      "   --------------------------------- ------ 38.8/45.9 MB 6.4 MB/s eta 0:00:02\n",
      "   ---------------------------------- ----- 39.1/45.9 MB 6.4 MB/s eta 0:00:02\n",
      "   ---------------------------------- ----- 39.3/45.9 MB 6.3 MB/s eta 0:00:02\n",
      "   ---------------------------------- ----- 39.6/45.9 MB 6.4 MB/s eta 0:00:01\n",
      "   ---------------------------------- ----- 39.9/45.9 MB 6.4 MB/s eta 0:00:01\n",
      "   ----------------------------------- ---- 40.3/45.9 MB 6.4 MB/s eta 0:00:01\n",
      "   ----------------------------------- ---- 40.6/45.9 MB 6.4 MB/s eta 0:00:01\n",
      "   ----------------------------------- ---- 40.9/45.9 MB 6.4 MB/s eta 0:00:01\n",
      "   ----------------------------------- ---- 41.2/45.9 MB 6.4 MB/s eta 0:00:01\n",
      "   ------------------------------------ --- 41.5/45.9 MB 6.4 MB/s eta 0:00:01\n",
      "   ------------------------------------ --- 41.8/45.9 MB 6.4 MB/s eta 0:00:01\n",
      "   ------------------------------------ --- 42.0/45.9 MB 6.4 MB/s eta 0:00:01\n",
      "   ------------------------------------ --- 42.4/45.9 MB 6.4 MB/s eta 0:00:01\n",
      "   ------------------------------------- -- 42.6/45.9 MB 6.4 MB/s eta 0:00:01\n",
      "   ------------------------------------- -- 42.9/45.9 MB 6.4 MB/s eta 0:00:01\n",
      "   ------------------------------------- -- 43.2/45.9 MB 6.3 MB/s eta 0:00:01\n",
      "   ------------------------------------- -- 43.5/45.9 MB 6.4 MB/s eta 0:00:01\n",
      "   -------------------------------------- - 43.8/45.9 MB 6.4 MB/s eta 0:00:01\n",
      "   -------------------------------------- - 44.1/45.9 MB 6.4 MB/s eta 0:00:01\n",
      "   -------------------------------------- - 44.4/45.9 MB 6.4 MB/s eta 0:00:01\n",
      "   -------------------------------------- - 44.6/45.9 MB 6.3 MB/s eta 0:00:01\n",
      "   ---------------------------------------  45.0/45.9 MB 6.3 MB/s eta 0:00:01\n",
      "   ---------------------------------------  45.3/45.9 MB 6.3 MB/s eta 0:00:01\n",
      "   ---------------------------------------  45.6/45.9 MB 6.3 MB/s eta 0:00:01\n",
      "   ---------------------------------------  45.6/45.9 MB 6.4 MB/s eta 0:00:01\n",
      "   ---------------------------------------  45.6/45.9 MB 6.4 MB/s eta 0:00:01\n",
      "   ---------------------------------------  45.6/45.9 MB 6.4 MB/s eta 0:00:01\n",
      "   ---------------------------------------  45.6/45.9 MB 6.4 MB/s eta 0:00:01\n",
      "   ---------------------------------------  45.6/45.9 MB 6.4 MB/s eta 0:00:01\n",
      "   ---------------------------------------  45.6/45.9 MB 6.4 MB/s eta 0:00:01\n",
      "   ---------------------------------------  45.6/45.9 MB 6.4 MB/s eta 0:00:01\n",
      "   ---------------------------------------  45.6/45.9 MB 6.4 MB/s eta 0:00:01\n",
      "   ---------------------------------------  45.6/45.9 MB 6.4 MB/s eta 0:00:01\n",
      "   ---------------------------------------  45.6/45.9 MB 6.4 MB/s eta 0:00:01\n",
      "   ---------------------------------------  45.7/45.9 MB 4.7 MB/s eta 0:00:01\n",
      "   ---------------------------------------  45.9/45.9 MB 4.8 MB/s eta 0:00:01\n",
      "   ---------------------------------------  45.9/45.9 MB 4.8 MB/s eta 0:00:01\n",
      "   ---------------------------------------  45.9/45.9 MB 4.8 MB/s eta 0:00:01\n",
      "   ---------------------------------------  45.9/45.9 MB 4.8 MB/s eta 0:00:01\n",
      "   ---------------------------------------  45.9/45.9 MB 4.8 MB/s eta 0:00:01\n",
      "   ---------------------------------------  45.9/45.9 MB 4.8 MB/s eta 0:00:01\n",
      "   ---------------------------------------- 45.9/45.9 MB 4.2 MB/s eta 0:00:00\n",
      "Installing collected packages: scipy\n",
      "Successfully installed scipy-1.13.1\n",
      "Note: you may need to restart the kernel to use updated packages.\n"
     ]
    }
   ],
   "source": [
    "pip install scipy"
   ]
  },
  {
   "cell_type": "code",
   "execution_count": 96,
   "id": "86557704",
   "metadata": {},
   "outputs": [
    {
     "data": {
      "image/png": "[encoded data removed]",
      "text/plain": [
       "<Figure size 800x600 with 1 Axes>"
      ]
     },
     "metadata": {},
     "output_type": "display_data"
    }
   ],
   "source": [
    "import matplotlib.pyplot as plt\n",
    "import numpy as np\n",
    "from scipy.stats import norm  # Import for normal distribution\n",
    "\n",
    "# Generate 1000 samples from a standard normal distribution\n",
    "data = np.random.randn(1000)\n",
    "\n",
    "# Create the histogram\n",
    "fig, ax = plt.subplots(figsize=(8, 6)) \n",
    "counts, bins, patches = ax.hist(data, bins=30, density=True, alpha=0.7, label='Histogram')  # Set density=True for PDF\n",
    "\n",
    "# Calculate and plot the normal PDF\n",
    "mu = np.mean(data)  \n",
    "sigma = np.std(data)  \n",
    "x = np.linspace(min(bins), max(bins), 1000) \n",
    "pdf = norm.pdf(x, mu, sigma) \n",
    "ax.plot(x, pdf, 'b-', linewidth=2, label='Normal PDF')\n",
    "\n",
    "# Labels and title\n",
    "plt.xlabel('Value')\n",
    "plt.ylabel('Frequency/Probability')\n",
    "plt.title('Histogram with PDF Overlay')\n",
    "\n",
    "# Legend and grid\n",
    "plt.legend()\n",
    "plt.grid(True)\n",
    "plt.show()\n"
   ]
  },
  {
   "cell_type": "code",
   "execution_count": null,
   "id": "6aa3ae72",
   "metadata": {},
   "outputs": [],
   "source": []
  },
  {
   "cell_type": "markdown",
   "id": "d11c551b",
   "metadata": {},
   "source": [
    "## 16. Set the title of the plot as 'Histogram with PDF Overlay'."
   ]
  },
  {
   "cell_type": "code",
   "execution_count": 97,
   "id": "542a1f81",
   "metadata": {},
   "outputs": [
    {
     "data": {
      "image/png": "[encoded data removed]",
      "text/plain": [
       "<Figure size 800x600 with 1 Axes>"
      ]
     },
     "metadata": {},
     "output_type": "display_data"
    }
   ],
   "source": [
    "import matplotlib.pyplot as plt\n",
    "import numpy as np\n",
    "from scipy.stats import norm \n",
    "# Generate 1000 samples from a standard normal distribution\n",
    "data = np.random.randn(1000)\n",
    "\n",
    "# Create the histogram\n",
    "fig, ax = plt.subplots(figsize=(8, 6))  \n",
    "counts, bins, patches = ax.hist(data, bins=30, density=True, alpha=0.7, label='Histogram')  # Set density=True for PDF\n",
    "\n",
    "# Calculate and plot the normal PDF\n",
    "mu = np.mean(data)  \n",
    "sigma = np.std(data) \n",
    "x = np.linspace(min(bins), max(bins), 1000)  \n",
    "pdf = norm.pdf(x, mu, sigma) \n",
    "ax.plot(x, pdf, 'b-', linewidth=2, label='Normal PDF')\n",
    "\n",
    "# Labels and title\n",
    "plt.xlabel('Value')\n",
    "plt.ylabel('Frequency/Probability')\n",
    "plt.title('Histogram with PDF Overlay')\n",
    "\n",
    "# Legend and grid\n",
    "plt.legend()\n",
    "plt.grid(True)\n",
    "plt.show()"
   ]
  },
  {
   "cell_type": "code",
   "execution_count": null,
   "id": "44d653eb",
   "metadata": {},
   "outputs": [],
   "source": []
  },
  {
   "cell_type": "markdown",
   "id": "dc191245",
   "metadata": {},
   "source": [
    "## 17. Create a Seaborn scatter plot of two random arrays, color points based on their position relative to the origin (quadrants), add a legend, label the axes, and set the title as 'Quadrant-wise Scatter Plot'."
   ]
  },
  {
   "cell_type": "code",
   "execution_count": 99,
   "id": "2b17e7e8",
   "metadata": {},
   "outputs": [
    {
     "data": {
      "image/png": "[encoded data removed]",
      "text/plain": [
       "<Figure size 640x480 with 1 Axes>"
      ]
     },
     "metadata": {},
     "output_type": "display_data"
    }
   ],
   "source": [
    "import seaborn as sns\n",
    "import numpy as np\n",
    "\n",
    "# Generate random data (adjust size as needed)\n",
    "data_size = 100\n",
    "x = np.random.randn(data_size)\n",
    "y = np.random.randn(data_size)\n",
    "\n",
    "# Define a function to determine quadrants based on origin\n",
    "def get_quadrant(x, y):\n",
    "    if x >= 0 and y >= 0:\n",
    "        return 'Upper Right'\n",
    "    elif x < 0 and y >= 0:\n",
    "        return 'Upper Left'\n",
    "    elif x < 0 and y < 0:\n",
    "        return 'Lower Left'\n",
    "    else:\n",
    "        return 'Lower Right'\n",
    "\n",
    "# Calculate quadrants for each data point\n",
    "quadrants = [get_quadrant(x_val, y_val) for x_val, y_val in zip(x, y)]\n",
    "\n",
    "# Create the scatter plot with color mapping and legend\n",
    "sns.scatterplot(\n",
    "    x=x,\n",
    "    y=y,\n",
    "    hue=quadrants,  \n",
    "    palette='Set2',  \n",
    "    legend=True, \n",
    "    alpha=0.7,  \n",
    ")\n",
    "\n",
    "# Label axes and set title\n",
    "plt.xlabel('X-axis')\n",
    "plt.ylabel('Y-axis')\n",
    "plt.title('Quadrant-wise Scatter Plot')\n",
    "\n",
    "plt.show()\n"
   ]
  },
  {
   "cell_type": "code",
   "execution_count": null,
   "id": "a1742c1e",
   "metadata": {},
   "outputs": [],
   "source": []
  },
  {
   "cell_type": "markdown",
   "id": "6a26efc3",
   "metadata": {},
   "source": [
    "## 18. With Bokeh, plot a line chart of a sine wave function, add grid lines, label the axes, and set the title as 'Sine Wave Function'."
   ]
  },
  {
   "cell_type": "code",
   "execution_count": 77,
   "id": "4291efaa",
   "metadata": {},
   "outputs": [
    {
     "name": "stdout",
     "output_type": "stream",
     "text": [
      "Collecting bokeh\n",
      "  Downloading bokeh-3.4.1-py3-none-any.whl.metadata (12 kB)\n",
      "Requirement already satisfied: Jinja2>=2.9 in c:\\users\\asus\\appdata\\local\\programs\\python\\python312\\lib\\site-packages (from bokeh) (3.1.2)\n",
      "Requirement already satisfied: contourpy>=1.2 in c:\\users\\asus\\appdata\\local\\programs\\python\\python312\\lib\\site-packages (from bokeh) (1.2.0)\n",
      "Requirement already satisfied: numpy>=1.16 in c:\\users\\asus\\appdata\\local\\programs\\python\\python312\\lib\\site-packages (from bokeh) (1.26.2)\n",
      "Requirement already satisfied: packaging>=16.8 in c:\\users\\asus\\appdata\\local\\programs\\python\\python312\\lib\\site-packages (from bokeh) (23.2)\n",
      "Requirement already satisfied: pandas>=1.2 in c:\\users\\asus\\appdata\\local\\programs\\python\\python312\\lib\\site-packages (from bokeh) (2.1.4)\n",
      "Requirement already satisfied: pillow>=7.1.0 in c:\\users\\asus\\appdata\\local\\programs\\python\\python312\\lib\\site-packages (from bokeh) (10.1.0)\n",
      "Requirement already satisfied: PyYAML>=3.10 in c:\\users\\asus\\appdata\\local\\programs\\python\\python312\\lib\\site-packages (from bokeh) (6.0.1)\n",
      "Requirement already satisfied: tornado>=6.2 in c:\\users\\asus\\appdata\\local\\programs\\python\\python312\\lib\\site-packages (from bokeh) (6.3.3)\n",
      "Collecting xyzservices>=2021.09.1 (from bokeh)\n",
      "  Downloading xyzservices-2024.4.0-py3-none-any.whl.metadata (4.0 kB)\n",
      "Requirement already satisfied: MarkupSafe>=2.0 in c:\\users\\asus\\appdata\\local\\programs\\python\\python312\\lib\\site-packages (from Jinja2>=2.9->bokeh) (2.1.3)\n",
      "Requirement already satisfied: python-dateutil>=2.8.2 in c:\\users\\asus\\appdata\\local\\programs\\python\\python312\\lib\\site-packages (from pandas>=1.2->bokeh) (2.8.2)\n",
      "Requirement already satisfied: pytz>=2020.1 in c:\\users\\asus\\appdata\\local\\programs\\python\\python312\\lib\\site-packages (from pandas>=1.2->bokeh) (2023.3.post1)\n",
      "Requirement already satisfied: tzdata>=2022.1 in c:\\users\\asus\\appdata\\local\\programs\\python\\python312\\lib\\site-packages (from pandas>=1.2->bokeh) (2023.3)\n",
      "Requirement already satisfied: six>=1.5 in c:\\users\\asus\\appdata\\local\\programs\\python\\python312\\lib\\site-packages (from python-dateutil>=2.8.2->pandas>=1.2->bokeh) (1.16.0)\n",
      "Downloading bokeh-3.4.1-py3-none-any.whl (7.0 MB)\n",
      "   ---------------------------------------- 0.0/7.0 MB ? eta -:--:--\n",
      "   ---------------------------------------- 0.0/7.0 MB ? eta -:--:--\n",
      "   ---------------------------------------- 0.0/7.0 MB 487.6 kB/s eta 0:00:15\n",
      "   - -------------------------------------- 0.2/7.0 MB 1.9 MB/s eta 0:00:04\n",
      "   -- ------------------------------------- 0.5/7.0 MB 2.6 MB/s eta 0:00:03\n",
      "   --- ------------------------------------ 0.6/7.0 MB 2.9 MB/s eta 0:00:03\n",
      "   ----- ---------------------------------- 0.9/7.0 MB 3.3 MB/s eta 0:00:02\n",
      "   ----- ---------------------------------- 1.0/7.0 MB 3.3 MB/s eta 0:00:02\n",
      "   ------- -------------------------------- 1.3/7.0 MB 3.5 MB/s eta 0:00:02\n",
      "   -------- ------------------------------- 1.5/7.0 MB 3.6 MB/s eta 0:00:02\n",
      "   --------- ------------------------------ 1.7/7.0 MB 3.7 MB/s eta 0:00:02\n",
      "   ----------- ---------------------------- 1.9/7.0 MB 3.9 MB/s eta 0:00:02\n",
      "   ------------ --------------------------- 2.2/7.0 MB 4.0 MB/s eta 0:00:02\n",
      "   ------------- -------------------------- 2.4/7.0 MB 4.1 MB/s eta 0:00:02\n",
      "   -------------- ------------------------- 2.6/7.0 MB 4.0 MB/s eta 0:00:02\n",
      "   ---------------- ----------------------- 2.9/7.0 MB 4.1 MB/s eta 0:00:02\n",
      "   ----------------- ---------------------- 3.1/7.0 MB 4.3 MB/s eta 0:00:01\n",
      "   ------------------ --------------------- 3.3/7.0 MB 4.3 MB/s eta 0:00:01\n",
      "   ------------------- -------------------- 3.4/7.0 MB 4.2 MB/s eta 0:00:01\n",
      "   -------------------- ------------------- 3.6/7.0 MB 4.2 MB/s eta 0:00:01\n",
      "   ---------------------- ----------------- 3.9/7.0 MB 4.3 MB/s eta 0:00:01\n",
      "   ------------------------ --------------- 4.2/7.0 MB 4.4 MB/s eta 0:00:01\n",
      "   ------------------------- -------------- 4.4/7.0 MB 4.4 MB/s eta 0:00:01\n",
      "   -------------------------- ------------- 4.7/7.0 MB 4.4 MB/s eta 0:00:01\n",
      "   ---------------------------- ----------- 5.0/7.0 MB 4.6 MB/s eta 0:00:01\n",
      "   ------------------------------ --------- 5.4/7.0 MB 4.6 MB/s eta 0:00:01\n",
      "   -------------------------------- ------- 5.8/7.0 MB 4.7 MB/s eta 0:00:01\n",
      "   ---------------------------------- ----- 6.1/7.0 MB 4.8 MB/s eta 0:00:01\n",
      "   ----------------------------------- ---- 6.3/7.0 MB 4.8 MB/s eta 0:00:01\n",
      "   ------------------------------------- -- 6.6/7.0 MB 4.8 MB/s eta 0:00:01\n",
      "   ---------------------------------------  6.9/7.0 MB 4.9 MB/s eta 0:00:01\n",
      "   ---------------------------------------  7.0/7.0 MB 4.9 MB/s eta 0:00:01\n",
      "   ---------------------------------------- 7.0/7.0 MB 4.8 MB/s eta 0:00:00\n",
      "Downloading xyzservices-2024.4.0-py3-none-any.whl (81 kB)\n",
      "   ---------------------------------------- 0.0/82.0 kB ? eta -:--:--\n",
      "   ---------------------------------------- 82.0/82.0 kB 4.5 MB/s eta 0:00:00\n",
      "Installing collected packages: xyzservices, bokeh\n",
      "Successfully installed bokeh-3.4.1 xyzservices-2024.4.0\n",
      "Note: you may need to restart the kernel to use updated packages.\n"
     ]
    }
   ],
   "source": [
    "pip install bokeh"
   ]
  },
  {
   "cell_type": "code",
   "execution_count": 103,
   "id": "fb539500",
   "metadata": {},
   "outputs": [
    {
     "data": {
      "text/html": [
       "    <style>\n",
       "        .bk-notebook-logo {\n",
       "            display: block;\n",
       "            width: 20px;\n",
       "            height: 20px;\n",
       "            background-image: url(data:image/png;base64,iVBORw0KGgoAAAANSUhEUgAAABQAAAAUCAYAAACNiR0NAAAABHNCSVQICAgIfAhkiAAAAAlwSFlzAAALEgAACxIB0t1+/AAAABx0RVh0U29mdHdhcmUAQWRvYmUgRmlyZXdvcmtzIENTNui8sowAAAOkSURBVDiNjZRtaJVlGMd/1/08zzln5zjP1LWcU9N0NkN8m2CYjpgQYQXqSs0I84OLIC0hkEKoPtiH3gmKoiJDU7QpLgoLjLIQCpEsNJ1vqUOdO7ppbuec5+V+rj4ctwzd8IIbbi6u+8f1539dt3A78eXC7QizUF7gyV1fD1Yqg4JWz84yffhm0qkFqBogB9rM8tZdtwVsPUhWhGcFJngGeWrPzHm5oaMmkfEg1usvLFyc8jLRqDOMru7AyC8saQr7GG7f5fvDeH7Ej8CM66nIF+8yngt6HWaKh7k49Soy9nXurCi1o3qUbS3zWfrYeQDTB/Qj6kX6Ybhw4B+bOYoLKCC9H3Nu/leUTZ1JdRWkkn2ldcCamzrcf47KKXdAJllSlxAOkRgyHsGC/zRday5Qld9DyoM4/q/rUoy/CXh3jzOu3bHUVZeU+DEn8FInkPBFlu3+nW3Nw0mk6vCDiWg8CeJaxEwuHS3+z5RgY+YBR6V1Z1nxSOfoaPa4LASWxxdNp+VWTk7+4vzaou8v8PN+xo+KY2xsw6une2frhw05CTYOmQvsEhjhWjn0bmXPjpE1+kplmmkP3suftwTubK9Vq22qKmrBhpY4jvd5afdRA3wGjFAgcnTK2s4hY0/GPNIb0nErGMCRxWOOX64Z8RAC4oCXdklmEvcL8o0BfkNK4lUg9HTl+oPlQxdNo3Mg4Nv175e/1LDGzZen30MEjRUtmXSfiTVu1kK8W4txyV6BMKlbgk3lMwYCiusNy9fVfvvwMxv8Ynl6vxoByANLTWplvuj/nF9m2+PDtt1eiHPBr1oIfhCChQMBw6Aw0UulqTKZdfVvfG7VcfIqLG9bcldL/+pdWTLxLUy8Qq38heUIjh4XlzZxzQm19lLFlr8vdQ97rjZVOLf8nclzckbcD4wxXMidpX30sFd37Fv/GtwwhzhxGVAprjbg0gCAEeIgwCZyTV2Z1REEW8O4py0wsjeloKoMr6iCY6dP92H6Vw/oTyICIthibxjm/DfN9lVz8IqtqKYLUXfoKVMVQVVJOElGjrnnUt9T9wbgp8AyYKaGlqingHZU/uG2NTZSVqwHQTWkx9hxjkpWDaCg6Ckj5qebgBVbT3V3NNXMSiWSDdGV3hrtzla7J+duwPOToIg42ChPQOQjspnSlp1V+Gjdged7+8UN5CRAV7a5EdFNwCjEaBR27b3W890TE7g24NAP/mMDXRWrGoFPQI9ls/MWO2dWFAar/xcOIImbbpA3zgAAAABJRU5ErkJggg==);\n",
       "        }\n",
       "    </style>\n",
       "    <div>\n",
       "        <a href=\"https://bokeh.org\" target=\"_blank\" class=\"bk-notebook-logo\"></a>\n",
       "        <span id=\"e7860a4d-87aa-4192-b11e-049e92e2f093\">Loading BokehJS ...</span>\n",
       "    </div>\n"
      ]
     },
     "metadata": {},
     "output_type": "display_data"
    },
    {
     "data": {
      "application/javascript": "'use strict';\n(function(root) {\n  function now() {\n    return new Date();\n  }\n\n  const force = true;\n\n  if (typeof root._bokeh_onload_callbacks === \"undefined\" || force === true) {\n    root._bokeh_onload_callbacks = [];\n    root._bokeh_is_loading = undefined;\n  }\n\nconst JS_MIME_TYPE = 'application/javascript';\n  const HTML_MIME_TYPE = 'text/html';\n  const EXEC_MIME_TYPE = 'application/vnd.bokehjs_exec.v0+json';\n  const CLASS_NAME = 'output_bokeh rendered_html';\n\n  /**\n   * Render data to the DOM node\n   */\n  function render(props, node) {\n    const script = document.createElement(\"script\");\n    node.appendChild(script);\n  }\n\n  /**\n   * Handle when an output is cleared or removed\n   */\n  function handleClearOutput(event, handle) {\n    function drop(id) {\n      const view = Bokeh.index.get_by_id(id)\n      if (view != null) {\n        view.model.document.clear()\n        Bokeh.index.delete(view)\n      }\n    }\n\n    const cell = handle.cell;\n\n    const id = cell.output_area._bokeh_element_id;\n    const server_id = cell.output_area._bokeh_server_id;\n\n    // Clean up Bokeh references\n    if (id != null) {\n      drop(id)\n    }\n\n    if (server_id !== undefined) {\n      // Clean up Bokeh references\n      const cmd_clean = \"from bokeh.io.state import curstate; print(curstate().uuid_to_server['\" + server_id + \"'].get_sessions()[0].document.roots[0]._id)\";\n      cell.notebook.kernel.execute(cmd_clean, {\n        iopub: {\n          output: function(msg) {\n            const id = msg.content.text.trim()\n            drop(id)\n          }\n        }\n      });\n      // Destroy server and session\n      const cmd_destroy = \"import bokeh.io.notebook as ion; ion.destroy_server('\" + server_id + \"')\";\n      cell.notebook.kernel.execute(cmd_destroy);\n    }\n  }\n\n  /**\n   * Handle when a new output is added\n   */\n  function handleAddOutput(event, handle) {\n    const output_area = handle.output_area;\n    const output = handle.output;\n\n    // limit handleAddOutput to display_data with EXEC_MIME_TYPE content only\n    if ((output.output_type != \"display_data\") || (!Object.prototype.hasOwnProperty.call(output.data, EXEC_MIME_TYPE))) {\n      return\n    }\n\n    const toinsert = output_area.element.find(\".\" + CLASS_NAME.split(' ')[0]);\n\n    if (output.metadata[EXEC_MIME_TYPE][\"id\"] !== undefined) {\n      toinsert[toinsert.length - 1].firstChild.textContent = output.data[JS_MIME_TYPE];\n      // store reference to embed id on output_area\n      output_area._bokeh_element_id = output.metadata[EXEC_MIME_TYPE][\"id\"];\n    }\n    if (output.metadata[EXEC_MIME_TYPE][\"server_id\"] !== undefined) {\n      const bk_div = document.createElement(\"div\");\n      bk_div.innerHTML = output.data[HTML_MIME_TYPE];\n      const script_attrs = bk_div.children[0].attributes;\n      for (let i = 0; i < script_attrs.length; i++) {\n        toinsert[toinsert.length - 1].firstChild.setAttribute(script_attrs[i].name, script_attrs[i].value);\n        toinsert[toinsert.length - 1].firstChild.textContent = bk_div.children[0].textContent\n      }\n      // store reference to server id on output_area\n      output_area._bokeh_server_id = output.metadata[EXEC_MIME_TYPE][\"server_id\"];\n    }\n  }\n\n  function register_renderer(events, OutputArea) {\n\n    function append_mime(data, metadata, element) {\n      // create a DOM node to render to\n      const toinsert = this.create_output_subarea(\n        metadata,\n        CLASS_NAME,\n        EXEC_MIME_TYPE\n      );\n      this.keyboard_manager.register_events(toinsert);\n      // Render to node\n      const props = {data: data, metadata: metadata[EXEC_MIME_TYPE]};\n      render(props, toinsert[toinsert.length - 1]);\n      element.append(toinsert);\n      return toinsert\n    }\n\n    /* Handle when an output is cleared or removed */\n    events.on('clear_output.CodeCell', handleClearOutput);\n    events.on('delete.Cell', handleClearOutput);\n\n    /* Handle when a new output is added */\n    events.on('output_added.OutputArea', handleAddOutput);\n\n    /**\n     * Register the mime type and append_mime function with output_area\n     */\n    OutputArea.prototype.register_mime_type(EXEC_MIME_TYPE, append_mime, {\n      /* Is output safe? */\n      safe: true,\n      /* Index of renderer in `output_area.display_order` */\n      index: 0\n    });\n  }\n\n  // register the mime type if in Jupyter Notebook environment and previously unregistered\n  if (root.Jupyter !== undefined) {\n    const events = require('base/js/events');\n    const OutputArea = require('notebook/js/outputarea').OutputArea;\n\n    if (OutputArea.prototype.mime_types().indexOf(EXEC_MIME_TYPE) == -1) {\n      register_renderer(events, OutputArea);\n    }\n  }\n  if (typeof (root._bokeh_timeout) === \"undefined\" || force === true) {\n    root._bokeh_timeout = Date.now() + 5000;\n    root._bokeh_failed_load = false;\n  }\n\n  const NB_LOAD_WARNING = {'data': {'text/html':\n     \"<div style='background-color: #fdd'>\\n\"+\n     \"<p>\\n\"+\n     \"BokehJS does not appear to have successfully loaded. If loading BokehJS from CDN, this \\n\"+\n     \"may be due to a slow or bad network connection. Possible fixes:\\n\"+\n     \"</p>\\n\"+\n     \"<ul>\\n\"+\n     \"<li>re-rerun `output_notebook()` to attempt to load from CDN again, or</li>\\n\"+\n     \"<li>use INLINE resources instead, as so:</li>\\n\"+\n     \"</ul>\\n\"+\n     \"<code>\\n\"+\n     \"from bokeh.resources import INLINE\\n\"+\n     \"output_notebook(resources=INLINE)\\n\"+\n     \"</code>\\n\"+\n     \"</div>\"}};\n\n  function display_loaded(error = null) {\n    const el = document.getElementById(\"e7860a4d-87aa-4192-b11e-049e92e2f093\");\n    if (el != null) {\n      const html = (() => {\n        if (typeof root.Bokeh === \"undefined\") {\n          if (error == null) {\n            return \"BokehJS is loading ...\";\n          } else {\n            return \"BokehJS failed to load.\";\n          }\n        } else {\n          const prefix = `BokehJS ${root.Bokeh.version}`;\n          if (error == null) {\n            return `${prefix} successfully loaded.`;\n          } else {\n            return `${prefix} <b>encountered errors</b> while loading and may not function as expected.`;\n          }\n        }\n      })();\n      el.innerHTML = html;\n\n      if (error != null) {\n        const wrapper = document.createElement(\"div\");\n        wrapper.style.overflow = \"auto\";\n        wrapper.style.height = \"5em\";\n        wrapper.style.resize = \"vertical\";\n        const content = document.createElement(\"div\");\n        content.style.fontFamily = \"monospace\";\n        content.style.whiteSpace = \"pre-wrap\";\n        content.style.backgroundColor = \"rgb(255, 221, 221)\";\n        content.textContent = error.stack ?? error.toString();\n        wrapper.append(content);\n        el.append(wrapper);\n      }\n    } else if (Date.now() < root._bokeh_timeout) {\n      setTimeout(() => display_loaded(error), 100);\n    }\n  }\n\n  function run_callbacks() {\n    try {\n      root._bokeh_onload_callbacks.forEach(function(callback) {\n        if (callback != null)\n          callback();\n      });\n    } finally {\n      delete root._bokeh_onload_callbacks\n    }\n    console.debug(\"Bokeh: all callbacks have finished\");\n  }\n\n  function load_libs(css_urls, js_urls, callback) {\n    if (css_urls == null) css_urls = [];\n    if (js_urls == null) js_urls = [];\n\n    root._bokeh_onload_callbacks.push(callback);\n    if (root._bokeh_is_loading > 0) {\n      console.debug(\"Bokeh: BokehJS is being loaded, scheduling callback at\", now());\n      return null;\n    }\n    if (js_urls == null || js_urls.length === 0) {\n      run_callbacks();\n      return null;\n    }\n    console.debug(\"Bokeh: BokehJS not loaded, scheduling load and callback at\", now());\n    root._bokeh_is_loading = css_urls.length + js_urls.length;\n\n    function on_load() {\n      root._bokeh_is_loading--;\n      if (root._bokeh_is_loading === 0) {\n        console.debug(\"Bokeh: all BokehJS libraries/stylesheets loaded\");\n        run_callbacks()\n      }\n    }\n\n    function on_error(url) {\n      console.error(\"failed to load \" + url);\n    }\n\n    for (let i = 0; i < css_urls.length; i++) {\n      const url = css_urls[i];\n      const element = document.createElement(\"link\");\n      element.onload = on_load;\n      element.onerror = on_error.bind(null, url);\n      element.rel = \"stylesheet\";\n      element.type = \"text/css\";\n      element.href = url;\n      console.debug(\"Bokeh: injecting link tag for BokehJS stylesheet: \", url);\n      document.body.appendChild(element);\n    }\n\n    for (let i = 0; i < js_urls.length; i++) {\n      const url = js_urls[i];\n      const element = document.createElement('script');\n      element.onload = on_load;\n      element.onerror = on_error.bind(null, url);\n      element.async = false;\n      element.src = url;\n      console.debug(\"Bokeh: injecting script tag for BokehJS library: \", url);\n      document.head.appendChild(element);\n    }\n  };\n\n  function inject_raw_css(css) {\n    const element = document.createElement(\"style\");\n    element.appendChild(document.createTextNode(css));\n    document.body.appendChild(element);\n  }\n\n  const js_urls = [\"https://cdn.bokeh.org/bokeh/release/bokeh-3.4.1.min.js\", \"https://cdn.bokeh.org/bokeh/release/bokeh-gl-3.4.1.min.js\", \"https://cdn.bokeh.org/bokeh/release/bokeh-widgets-3.4.1.min.js\", \"https://cdn.bokeh.org/bokeh/release/bokeh-tables-3.4.1.min.js\", \"https://cdn.bokeh.org/bokeh/release/bokeh-mathjax-3.4.1.min.js\"];\n  const css_urls = [];\n\n  const inline_js = [    function(Bokeh) {\n      Bokeh.set_log_level(\"info\");\n    },\nfunction(Bokeh) {\n    }\n  ];\n\n  function run_inline_js() {\n    if (root.Bokeh !== undefined || force === true) {\n      try {\n            for (let i = 0; i < inline_js.length; i++) {\n      inline_js[i].call(root, root.Bokeh);\n    }\n\n      } catch (error) {display_loaded(error);throw error;\n      }if (force === true) {\n        display_loaded();\n      }} else if (Date.now() < root._bokeh_timeout) {\n      setTimeout(run_inline_js, 100);\n    } else if (!root._bokeh_failed_load) {\n      console.log(\"Bokeh: BokehJS failed to load within specified timeout.\");\n      root._bokeh_failed_load = true;\n    } else if (force !== true) {\n      const cell = $(document.getElementById(\"e7860a4d-87aa-4192-b11e-049e92e2f093\")).parents('.cell').data().cell;\n      cell.output_area.append_execute_result(NB_LOAD_WARNING)\n    }\n  }\n\n  if (root._bokeh_is_loading === 0) {\n    console.debug(\"Bokeh: BokehJS loaded, going straight to plotting\");\n    run_inline_js();\n  } else {\n    load_libs(css_urls, js_urls, function() {\n      console.debug(\"Bokeh: BokehJS plotting callback run at\", now());\n      run_inline_js();\n    });\n  }\n}(window));",
      "application/vnd.bokehjs_load.v0+json": ""
     },
     "metadata": {},
     "output_type": "display_data"
    },
    {
     "data": {
      "text/html": [
       "\n",
       "  <div id=\"c882af1d-85ab-4f58-96e2-5311db96c025\" data-root-id=\"p1174\" style=\"display: contents;\"></div>\n"
      ]
     },
     "metadata": {},
     "output_type": "display_data"
    },
    {
     "data": {
      "application/javascript": "(function(root) {\n  function embed_document(root) {\n  const docs_json = {\"4e0ce6d9-f4ba-4c35-b4b8-fc50c2e4e98c\":{\"version\":\"3.4.1\",\"title\":\"Bokeh Application\",\"roots\":[{\"type\":\"object\",\"name\":\"Figure\",\"id\":\"p1174\",\"attributes\":{\"x_range\":{\"type\":\"object\",\"name\":\"DataRange1d\",\"id\":\"p1175\"},\"y_range\":{\"type\":\"object\",\"name\":\"DataRange1d\",\"id\":\"p1176\"},\"x_scale\":{\"type\":\"object\",\"name\":\"LinearScale\",\"id\":\"p1184\"},\"y_scale\":{\"type\":\"object\",\"name\":\"LinearScale\",\"id\":\"p1185\"},\"title\":{\"type\":\"object\",\"name\":\"Title\",\"id\":\"p1177\",\"attributes\":{\"text\":\"Sine Wave Function\"}},\"renderers\":[{\"type\":\"object\",\"name\":\"GlyphRenderer\",\"id\":\"p1213\",\"attributes\":{\"data_source\":{\"type\":\"object\",\"name\":\"ColumnDataSource\",\"id\":\"p1207\",\"attributes\":{\"selected\":{\"type\":\"object\",\"name\":\"Selection\",\"id\":\"p1208\",\"attributes\":{\"indices\":[],\"line_indices\":[]}},\"selection_policy\":{\"type\":\"object\",\"name\":\"UnionRenderers\",\"id\":\"p1209\"},\"data\":{\"type\":\"map\",\"entries\":[[\"x\",{\"type\":\"ndarray\",\"array\":{\"type\":\"bytes\",\"data\":\"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\"},\"shape\":[1000],\"dtype\":\"float64\",\"order\":\"little\"}],[\"y\",{\"type\":\"ndarray\",\"array\":{\"type\":\"bytes\",\"data\":\"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\"},\"shape\":[1000],\"dtype\":\"float64\",\"order\":\"little\"}]]}}},\"view\":{\"type\":\"object\",\"name\":\"CDSView\",\"id\":\"p1214\",\"attributes\":{\"filter\":{\"type\":\"object\",\"name\":\"AllIndices\",\"id\":\"p1215\"}}},\"glyph\":{\"type\":\"object\",\"name\":\"Line\",\"id\":\"p1210\",\"attributes\":{\"x\":{\"type\":\"field\",\"field\":\"x\"},\"y\":{\"type\":\"field\",\"field\":\"y\"},\"line_color\":\"#1f77b4\",\"line_width\":2}},\"nonselection_glyph\":{\"type\":\"object\",\"name\":\"Line\",\"id\":\"p1211\",\"attributes\":{\"x\":{\"type\":\"field\",\"field\":\"x\"},\"y\":{\"type\":\"field\",\"field\":\"y\"},\"line_color\":\"#1f77b4\",\"line_alpha\":0.1,\"line_width\":2}},\"muted_glyph\":{\"type\":\"object\",\"name\":\"Line\",\"id\":\"p1212\",\"attributes\":{\"x\":{\"type\":\"field\",\"field\":\"x\"},\"y\":{\"type\":\"field\",\"field\":\"y\"},\"line_color\":\"#1f77b4\",\"line_alpha\":0.2,\"line_width\":2}}}}],\"toolbar\":{\"type\":\"object\",\"name\":\"Toolbar\",\"id\":\"p1183\",\"attributes\":{\"tools\":[{\"type\":\"object\",\"name\":\"PanTool\",\"id\":\"p1196\"},{\"type\":\"object\",\"name\":\"WheelZoomTool\",\"id\":\"p1197\",\"attributes\":{\"renderers\":\"auto\"}},{\"type\":\"object\",\"name\":\"BoxZoomTool\",\"id\":\"p1198\",\"attributes\":{\"overlay\":{\"type\":\"object\",\"name\":\"BoxAnnotation\",\"id\":\"p1199\",\"attributes\":{\"syncable\":false,\"level\":\"overlay\",\"visible\":false,\"left\":{\"type\":\"number\",\"value\":\"nan\"},\"right\":{\"type\":\"number\",\"value\":\"nan\"},\"top\":{\"type\":\"number\",\"value\":\"nan\"},\"bottom\":{\"type\":\"number\",\"value\":\"nan\"},\"left_units\":\"canvas\",\"right_units\":\"canvas\",\"top_units\":\"canvas\",\"bottom_units\":\"canvas\",\"line_color\":\"black\",\"line_alpha\":1.0,\"line_width\":2,\"line_dash\":[4,4],\"fill_color\":\"lightgrey\",\"fill_alpha\":0.5}}}},{\"type\":\"object\",\"name\":\"SaveTool\",\"id\":\"p1204\"},{\"type\":\"object\",\"name\":\"ResetTool\",\"id\":\"p1205\"},{\"type\":\"object\",\"name\":\"HelpTool\",\"id\":\"p1206\"}]}},\"left\":[{\"type\":\"object\",\"name\":\"LinearAxis\",\"id\":\"p1191\",\"attributes\":{\"ticker\":{\"type\":\"object\",\"name\":\"BasicTicker\",\"id\":\"p1192\",\"attributes\":{\"mantissas\":[1,2,5]}},\"formatter\":{\"type\":\"object\",\"name\":\"BasicTickFormatter\",\"id\":\"p1193\"},\"axis_label\":\"y\",\"major_label_policy\":{\"type\":\"object\",\"name\":\"AllLabels\",\"id\":\"p1194\"}}}],\"below\":[{\"type\":\"object\",\"name\":\"LinearAxis\",\"id\":\"p1186\",\"attributes\":{\"ticker\":{\"type\":\"object\",\"name\":\"BasicTicker\",\"id\":\"p1187\",\"attributes\":{\"mantissas\":[1,2,5]}},\"formatter\":{\"type\":\"object\",\"name\":\"BasicTickFormatter\",\"id\":\"p1188\"},\"axis_label\":\"x\",\"major_label_policy\":{\"type\":\"object\",\"name\":\"AllLabels\",\"id\":\"p1189\"}}}],\"center\":[{\"type\":\"object\",\"name\":\"Grid\",\"id\":\"p1190\",\"attributes\":{\"axis\":{\"id\":\"p1186\"}}},{\"type\":\"object\",\"name\":\"Grid\",\"id\":\"p1195\",\"attributes\":{\"dimension\":1,\"axis\":{\"id\":\"p1191\"}}}]}}]}};\n  const render_items = [{\"docid\":\"4e0ce6d9-f4ba-4c35-b4b8-fc50c2e4e98c\",\"roots\":{\"p1174\":\"c882af1d-85ab-4f58-96e2-5311db96c025\"},\"root_ids\":[\"p1174\"]}];\n  void root.Bokeh.embed.embed_items_notebook(docs_json, render_items);\n  }\n  if (root.Bokeh !== undefined) {\n    embed_document(root);\n  } else {\n    let attempts = 0;\n    const timer = setInterval(function(root) {\n      if (root.Bokeh !== undefined) {\n        clearInterval(timer);\n        embed_document(root);\n      } else {\n        attempts++;\n        if (attempts > 100) {\n          clearInterval(timer);\n          console.log(\"Bokeh: ERROR: Unable to run BokehJS code because BokehJS library is missing\");\n        }\n      }\n    }, 10, root)\n  }\n})(window);",
      "application/vnd.bokehjs_exec.v0+json": ""
     },
     "metadata": {
      "application/vnd.bokehjs_exec.v0+json": {
       "id": "p1174"
      }
     },
     "output_type": "display_data"
    }
   ],
   "source": [
    "import numpy as np\n",
    "from bokeh.plotting import figure, output_file, show\n",
    "from bokeh.io import output_notebook\n",
    "\n",
    "# Step 1: Import necessary libraries\n",
    "output_notebook()\n",
    "\n",
    "# Step 2: Generate data for the sine wave\n",
    "x = np.linspace(0, 4 * np.pi, 1000)  # x values\n",
    "y = np.sin(x)  # y values as sine of x\n",
    "\n",
    "# Step 3: Create a Bokeh plot\n",
    "p = figure(title=\"Sine Wave Function\", x_axis_label='x', y_axis_label='y')\n",
    "\n",
    "# Add a line renderer with the sine wave\n",
    "p.line(x, y, line_width=2)\n",
    "\n",
    "# Show the results\n",
    "show(p)\n"
   ]
  },
  {
   "cell_type": "code",
   "execution_count": null,
   "id": "804f3176",
   "metadata": {},
   "outputs": [],
   "source": []
  },
  {
   "cell_type": "markdown",
   "id": "90f423dc",
   "metadata": {},
   "source": [
    "## 19. Using Bokeh, generate a bar chart of randomly generated categorical data, color bars based on their values, add hover tooltips to display exact values, label the axes, and set the title as 'Random Categorical Bar Chart'."
   ]
  },
  {
   "cell_type": "code",
   "execution_count": 78,
   "id": "18b11e54",
   "metadata": {},
   "outputs": [
    {
     "data": {
      "text/html": [
       "    <style>\n",
       "        .bk-notebook-logo {\n",
       "            display: block;\n",
       "            width: 20px;\n",
       "            height: 20px;\n",
       "            background-image: url(data:image/png;base64,iVBORw0KGgoAAAANSUhEUgAAABQAAAAUCAYAAACNiR0NAAAABHNCSVQICAgIfAhkiAAAAAlwSFlzAAALEgAACxIB0t1+/AAAABx0RVh0U29mdHdhcmUAQWRvYmUgRmlyZXdvcmtzIENTNui8sowAAAOkSURBVDiNjZRtaJVlGMd/1/08zzln5zjP1LWcU9N0NkN8m2CYjpgQYQXqSs0I84OLIC0hkEKoPtiH3gmKoiJDU7QpLgoLjLIQCpEsNJ1vqUOdO7ppbuec5+V+rj4ctwzd8IIbbi6u+8f1539dt3A78eXC7QizUF7gyV1fD1Yqg4JWz84yffhm0qkFqBogB9rM8tZdtwVsPUhWhGcFJngGeWrPzHm5oaMmkfEg1usvLFyc8jLRqDOMru7AyC8saQr7GG7f5fvDeH7Ej8CM66nIF+8yngt6HWaKh7k49Soy9nXurCi1o3qUbS3zWfrYeQDTB/Qj6kX6Ybhw4B+bOYoLKCC9H3Nu/leUTZ1JdRWkkn2ldcCamzrcf47KKXdAJllSlxAOkRgyHsGC/zRday5Qld9DyoM4/q/rUoy/CXh3jzOu3bHUVZeU+DEn8FInkPBFlu3+nW3Nw0mk6vCDiWg8CeJaxEwuHS3+z5RgY+YBR6V1Z1nxSOfoaPa4LASWxxdNp+VWTk7+4vzaou8v8PN+xo+KY2xsw6une2frhw05CTYOmQvsEhjhWjn0bmXPjpE1+kplmmkP3suftwTubK9Vq22qKmrBhpY4jvd5afdRA3wGjFAgcnTK2s4hY0/GPNIb0nErGMCRxWOOX64Z8RAC4oCXdklmEvcL8o0BfkNK4lUg9HTl+oPlQxdNo3Mg4Nv175e/1LDGzZen30MEjRUtmXSfiTVu1kK8W4txyV6BMKlbgk3lMwYCiusNy9fVfvvwMxv8Ynl6vxoByANLTWplvuj/nF9m2+PDtt1eiHPBr1oIfhCChQMBw6Aw0UulqTKZdfVvfG7VcfIqLG9bcldL/+pdWTLxLUy8Qq38heUIjh4XlzZxzQm19lLFlr8vdQ97rjZVOLf8nclzckbcD4wxXMidpX30sFd37Fv/GtwwhzhxGVAprjbg0gCAEeIgwCZyTV2Z1REEW8O4py0wsjeloKoMr6iCY6dP92H6Vw/oTyICIthibxjm/DfN9lVz8IqtqKYLUXfoKVMVQVVJOElGjrnnUt9T9wbgp8AyYKaGlqingHZU/uG2NTZSVqwHQTWkx9hxjkpWDaCg6Ckj5qebgBVbT3V3NNXMSiWSDdGV3hrtzla7J+duwPOToIg42ChPQOQjspnSlp1V+Gjdged7+8UN5CRAV7a5EdFNwCjEaBR27b3W890TE7g24NAP/mMDXRWrGoFPQI9ls/MWO2dWFAar/xcOIImbbpA3zgAAAABJRU5ErkJggg==);\n",
       "        }\n",
       "    </style>\n",
       "    <div>\n",
       "        <a href=\"https://bokeh.org\" target=\"_blank\" class=\"bk-notebook-logo\"></a>\n",
       "        <span id=\"a6b284bd-f8de-4f41-bc3a-21181b1f818c\">Loading BokehJS ...</span>\n",
       "    </div>\n"
      ]
     },
     "metadata": {},
     "output_type": "display_data"
    },
    {
     "data": {
      "application/javascript": "'use strict';\n(function(root) {\n  function now() {\n    return new Date();\n  }\n\n  const force = true;\n\n  if (typeof root._bokeh_onload_callbacks === \"undefined\" || force === true) {\n    root._bokeh_onload_callbacks = [];\n    root._bokeh_is_loading = undefined;\n  }\n\nconst JS_MIME_TYPE = 'application/javascript';\n  const HTML_MIME_TYPE = 'text/html';\n  const EXEC_MIME_TYPE = 'application/vnd.bokehjs_exec.v0+json';\n  const CLASS_NAME = 'output_bokeh rendered_html';\n\n  /**\n   * Render data to the DOM node\n   */\n  function render(props, node) {\n    const script = document.createElement(\"script\");\n    node.appendChild(script);\n  }\n\n  /**\n   * Handle when an output is cleared or removed\n   */\n  function handleClearOutput(event, handle) {\n    function drop(id) {\n      const view = Bokeh.index.get_by_id(id)\n      if (view != null) {\n        view.model.document.clear()\n        Bokeh.index.delete(view)\n      }\n    }\n\n    const cell = handle.cell;\n\n    const id = cell.output_area._bokeh_element_id;\n    const server_id = cell.output_area._bokeh_server_id;\n\n    // Clean up Bokeh references\n    if (id != null) {\n      drop(id)\n    }\n\n    if (server_id !== undefined) {\n      // Clean up Bokeh references\n      const cmd_clean = \"from bokeh.io.state import curstate; print(curstate().uuid_to_server['\" + server_id + \"'].get_sessions()[0].document.roots[0]._id)\";\n      cell.notebook.kernel.execute(cmd_clean, {\n        iopub: {\n          output: function(msg) {\n            const id = msg.content.text.trim()\n            drop(id)\n          }\n        }\n      });\n      // Destroy server and session\n      const cmd_destroy = \"import bokeh.io.notebook as ion; ion.destroy_server('\" + server_id + \"')\";\n      cell.notebook.kernel.execute(cmd_destroy);\n    }\n  }\n\n  /**\n   * Handle when a new output is added\n   */\n  function handleAddOutput(event, handle) {\n    const output_area = handle.output_area;\n    const output = handle.output;\n\n    // limit handleAddOutput to display_data with EXEC_MIME_TYPE content only\n    if ((output.output_type != \"display_data\") || (!Object.prototype.hasOwnProperty.call(output.data, EXEC_MIME_TYPE))) {\n      return\n    }\n\n    const toinsert = output_area.element.find(\".\" + CLASS_NAME.split(' ')[0]);\n\n    if (output.metadata[EXEC_MIME_TYPE][\"id\"] !== undefined) {\n      toinsert[toinsert.length - 1].firstChild.textContent = output.data[JS_MIME_TYPE];\n      // store reference to embed id on output_area\n      output_area._bokeh_element_id = output.metadata[EXEC_MIME_TYPE][\"id\"];\n    }\n    if (output.metadata[EXEC_MIME_TYPE][\"server_id\"] !== undefined) {\n      const bk_div = document.createElement(\"div\");\n      bk_div.innerHTML = output.data[HTML_MIME_TYPE];\n      const script_attrs = bk_div.children[0].attributes;\n      for (let i = 0; i < script_attrs.length; i++) {\n        toinsert[toinsert.length - 1].firstChild.setAttribute(script_attrs[i].name, script_attrs[i].value);\n        toinsert[toinsert.length - 1].firstChild.textContent = bk_div.children[0].textContent\n      }\n      // store reference to server id on output_area\n      output_area._bokeh_server_id = output.metadata[EXEC_MIME_TYPE][\"server_id\"];\n    }\n  }\n\n  function register_renderer(events, OutputArea) {\n\n    function append_mime(data, metadata, element) {\n      // create a DOM node to render to\n      const toinsert = this.create_output_subarea(\n        metadata,\n        CLASS_NAME,\n        EXEC_MIME_TYPE\n      );\n      this.keyboard_manager.register_events(toinsert);\n      // Render to node\n      const props = {data: data, metadata: metadata[EXEC_MIME_TYPE]};\n      render(props, toinsert[toinsert.length - 1]);\n      element.append(toinsert);\n      return toinsert\n    }\n\n    /* Handle when an output is cleared or removed */\n    events.on('clear_output.CodeCell', handleClearOutput);\n    events.on('delete.Cell', handleClearOutput);\n\n    /* Handle when a new output is added */\n    events.on('output_added.OutputArea', handleAddOutput);\n\n    /**\n     * Register the mime type and append_mime function with output_area\n     */\n    OutputArea.prototype.register_mime_type(EXEC_MIME_TYPE, append_mime, {\n      /* Is output safe? */\n      safe: true,\n      /* Index of renderer in `output_area.display_order` */\n      index: 0\n    });\n  }\n\n  // register the mime type if in Jupyter Notebook environment and previously unregistered\n  if (root.Jupyter !== undefined) {\n    const events = require('base/js/events');\n    const OutputArea = require('notebook/js/outputarea').OutputArea;\n\n    if (OutputArea.prototype.mime_types().indexOf(EXEC_MIME_TYPE) == -1) {\n      register_renderer(events, OutputArea);\n    }\n  }\n  if (typeof (root._bokeh_timeout) === \"undefined\" || force === true) {\n    root._bokeh_timeout = Date.now() + 5000;\n    root._bokeh_failed_load = false;\n  }\n\n  const NB_LOAD_WARNING = {'data': {'text/html':\n     \"<div style='background-color: #fdd'>\\n\"+\n     \"<p>\\n\"+\n     \"BokehJS does not appear to have successfully loaded. If loading BokehJS from CDN, this \\n\"+\n     \"may be due to a slow or bad network connection. Possible fixes:\\n\"+\n     \"</p>\\n\"+\n     \"<ul>\\n\"+\n     \"<li>re-rerun `output_notebook()` to attempt to load from CDN again, or</li>\\n\"+\n     \"<li>use INLINE resources instead, as so:</li>\\n\"+\n     \"</ul>\\n\"+\n     \"<code>\\n\"+\n     \"from bokeh.resources import INLINE\\n\"+\n     \"output_notebook(resources=INLINE)\\n\"+\n     \"</code>\\n\"+\n     \"</div>\"}};\n\n  function display_loaded(error = null) {\n    const el = document.getElementById(\"a6b284bd-f8de-4f41-bc3a-21181b1f818c\");\n    if (el != null) {\n      const html = (() => {\n        if (typeof root.Bokeh === \"undefined\") {\n          if (error == null) {\n            return \"BokehJS is loading ...\";\n          } else {\n            return \"BokehJS failed to load.\";\n          }\n        } else {\n          const prefix = `BokehJS ${root.Bokeh.version}`;\n          if (error == null) {\n            return `${prefix} successfully loaded.`;\n          } else {\n            return `${prefix} <b>encountered errors</b> while loading and may not function as expected.`;\n          }\n        }\n      })();\n      el.innerHTML = html;\n\n      if (error != null) {\n        const wrapper = document.createElement(\"div\");\n        wrapper.style.overflow = \"auto\";\n        wrapper.style.height = \"5em\";\n        wrapper.style.resize = \"vertical\";\n        const content = document.createElement(\"div\");\n        content.style.fontFamily = \"monospace\";\n        content.style.whiteSpace = \"pre-wrap\";\n        content.style.backgroundColor = \"rgb(255, 221, 221)\";\n        content.textContent = error.stack ?? error.toString();\n        wrapper.append(content);\n        el.append(wrapper);\n      }\n    } else if (Date.now() < root._bokeh_timeout) {\n      setTimeout(() => display_loaded(error), 100);\n    }\n  }\n\n  function run_callbacks() {\n    try {\n      root._bokeh_onload_callbacks.forEach(function(callback) {\n        if (callback != null)\n          callback();\n      });\n    } finally {\n      delete root._bokeh_onload_callbacks\n    }\n    console.debug(\"Bokeh: all callbacks have finished\");\n  }\n\n  function load_libs(css_urls, js_urls, callback) {\n    if (css_urls == null) css_urls = [];\n    if (js_urls == null) js_urls = [];\n\n    root._bokeh_onload_callbacks.push(callback);\n    if (root._bokeh_is_loading > 0) {\n      console.debug(\"Bokeh: BokehJS is being loaded, scheduling callback at\", now());\n      return null;\n    }\n    if (js_urls == null || js_urls.length === 0) {\n      run_callbacks();\n      return null;\n    }\n    console.debug(\"Bokeh: BokehJS not loaded, scheduling load and callback at\", now());\n    root._bokeh_is_loading = css_urls.length + js_urls.length;\n\n    function on_load() {\n      root._bokeh_is_loading--;\n      if (root._bokeh_is_loading === 0) {\n        console.debug(\"Bokeh: all BokehJS libraries/stylesheets loaded\");\n        run_callbacks()\n      }\n    }\n\n    function on_error(url) {\n      console.error(\"failed to load \" + url);\n    }\n\n    for (let i = 0; i < css_urls.length; i++) {\n      const url = css_urls[i];\n      const element = document.createElement(\"link\");\n      element.onload = on_load;\n      element.onerror = on_error.bind(null, url);\n      element.rel = \"stylesheet\";\n      element.type = \"text/css\";\n      element.href = url;\n      console.debug(\"Bokeh: injecting link tag for BokehJS stylesheet: \", url);\n      document.body.appendChild(element);\n    }\n\n    for (let i = 0; i < js_urls.length; i++) {\n      const url = js_urls[i];\n      const element = document.createElement('script');\n      element.onload = on_load;\n      element.onerror = on_error.bind(null, url);\n      element.async = false;\n      element.src = url;\n      console.debug(\"Bokeh: injecting script tag for BokehJS library: \", url);\n      document.head.appendChild(element);\n    }\n  };\n\n  function inject_raw_css(css) {\n    const element = document.createElement(\"style\");\n    element.appendChild(document.createTextNode(css));\n    document.body.appendChild(element);\n  }\n\n  const js_urls = [\"https://cdn.bokeh.org/bokeh/release/bokeh-3.4.1.min.js\", \"https://cdn.bokeh.org/bokeh/release/bokeh-gl-3.4.1.min.js\", \"https://cdn.bokeh.org/bokeh/release/bokeh-widgets-3.4.1.min.js\", \"https://cdn.bokeh.org/bokeh/release/bokeh-tables-3.4.1.min.js\", \"https://cdn.bokeh.org/bokeh/release/bokeh-mathjax-3.4.1.min.js\"];\n  const css_urls = [];\n\n  const inline_js = [    function(Bokeh) {\n      Bokeh.set_log_level(\"info\");\n    },\nfunction(Bokeh) {\n    }\n  ];\n\n  function run_inline_js() {\n    if (root.Bokeh !== undefined || force === true) {\n      try {\n            for (let i = 0; i < inline_js.length; i++) {\n      inline_js[i].call(root, root.Bokeh);\n    }\n\n      } catch (error) {display_loaded(error);throw error;\n      }if (force === true) {\n        display_loaded();\n      }} else if (Date.now() < root._bokeh_timeout) {\n      setTimeout(run_inline_js, 100);\n    } else if (!root._bokeh_failed_load) {\n      console.log(\"Bokeh: BokehJS failed to load within specified timeout.\");\n      root._bokeh_failed_load = true;\n    } else if (force !== true) {\n      const cell = $(document.getElementById(\"a6b284bd-f8de-4f41-bc3a-21181b1f818c\")).parents('.cell').data().cell;\n      cell.output_area.append_execute_result(NB_LOAD_WARNING)\n    }\n  }\n\n  if (root._bokeh_is_loading === 0) {\n    console.debug(\"Bokeh: BokehJS loaded, going straight to plotting\");\n    run_inline_js();\n  } else {\n    load_libs(css_urls, js_urls, function() {\n      console.debug(\"Bokeh: BokehJS plotting callback run at\", now());\n      run_inline_js();\n    });\n  }\n}(window));",
      "application/vnd.bokehjs_load.v0+json": ""
     },
     "metadata": {},
     "output_type": "display_data"
    },
    {
     "data": {
      "text/html": [
       "\n",
       "  <div id=\"a03faf26-7e75-4c24-b562-de3f699170a1\" data-root-id=\"p1004\" style=\"display: contents;\"></div>\n"
      ]
     },
     "metadata": {},
     "output_type": "display_data"
    },
    {
     "data": {
      "application/javascript": "(function(root) {\n  function embed_document(root) {\n  const docs_json = {\"0bb19ea2-bcd3-4eef-be8e-519b3c0f84da\":{\"version\":\"3.4.1\",\"title\":\"Bokeh Application\",\"roots\":[{\"type\":\"object\",\"name\":\"Figure\",\"id\":\"p1004\",\"attributes\":{\"x_range\":{\"type\":\"object\",\"name\":\"FactorRange\",\"id\":\"p1014\",\"attributes\":{\"factors\":[\"Category A\",\"Category B\",\"Category C\",\"Category D\",\"Category E\"]}},\"y_range\":{\"type\":\"object\",\"name\":\"DataRange1d\",\"id\":\"p1006\"},\"x_scale\":{\"type\":\"object\",\"name\":\"CategoricalScale\",\"id\":\"p1015\"},\"y_scale\":{\"type\":\"object\",\"name\":\"LinearScale\",\"id\":\"p1016\"},\"title\":{\"type\":\"object\",\"name\":\"Title\",\"id\":\"p1007\",\"attributes\":{\"text\":\"Random Categorical Bar Chart\"}},\"renderers\":[{\"type\":\"object\",\"name\":\"GlyphRenderer\",\"id\":\"p1034\",\"attributes\":{\"data_source\":{\"type\":\"object\",\"name\":\"ColumnDataSource\",\"id\":\"p1001\",\"attributes\":{\"selected\":{\"type\":\"object\",\"name\":\"Selection\",\"id\":\"p1002\",\"attributes\":{\"indices\":[],\"line_indices\":[]}},\"selection_policy\":{\"type\":\"object\",\"name\":\"UnionRenderers\",\"id\":\"p1003\"},\"data\":{\"type\":\"map\",\"entries\":[[\"index\",{\"type\":\"ndarray\",\"array\":{\"type\":\"bytes\",\"data\":\"AAAAAAEAAAACAAAAAwAAAAQAAAA=\"},\"shape\":[5],\"dtype\":\"int32\",\"order\":\"little\"}],[\"categories\",{\"type\":\"ndarray\",\"array\":[\"Category A\",\"Category B\",\"Category C\",\"Category D\",\"Category E\"],\"shape\":[5],\"dtype\":\"object\",\"order\":\"little\"}],[\"values\",{\"type\":\"ndarray\",\"array\":{\"type\":\"bytes\",\"data\":\"EQAAABoAAABMAAAABAAAACcAAAA=\"},\"shape\":[5],\"dtype\":\"int32\",\"order\":\"little\"}]]}}},\"view\":{\"type\":\"object\",\"name\":\"CDSView\",\"id\":\"p1035\",\"attributes\":{\"filter\":{\"type\":\"object\",\"name\":\"AllIndices\",\"id\":\"p1036\"}}},\"glyph\":{\"type\":\"object\",\"name\":\"VBar\",\"id\":\"p1031\",\"attributes\":{\"x\":{\"type\":\"field\",\"field\":\"categories\"},\"width\":{\"type\":\"value\",\"value\":0.9},\"top\":{\"type\":\"field\",\"field\":\"values\"},\"line_color\":{\"type\":\"value\",\"value\":\"white\"},\"fill_color\":{\"type\":\"field\",\"field\":\"categories\",\"transform\":{\"type\":\"object\",\"name\":\"CategoricalColorMapper\",\"id\":\"p1027\",\"attributes\":{\"palette\":[\"#440154\",\"#440255\",\"#440357\",\"#450558\",\"#45065A\",\"#45085B\",\"#46095C\",\"#460B5E\",\"#460C5F\",\"#460E61\",\"#470F62\",\"#471163\",\"#471265\",\"#471466\",\"#471567\",\"#471669\",\"#47186A\",\"#48196B\",\"#481A6C\",\"#481C6E\",\"#481D6F\",\"#481E70\",\"#482071\",\"#482172\",\"#482273\",\"#482374\",\"#472575\",\"#472676\",\"#472777\",\"#472878\",\"#472A79\",\"#472B7A\",\"#472C7B\",\"#462D7C\",\"#462F7C\",\"#46307D\",\"#46317E\",\"#45327F\",\"#45347F\",\"#453580\",\"#453681\",\"#443781\",\"#443982\",\"#433A83\",\"#433B83\",\"#433C84\",\"#423D84\",\"#423E85\",\"#424085\",\"#414186\",\"#414286\",\"#404387\",\"#404487\",\"#3F4587\",\"#3F4788\",\"#3E4888\",\"#3E4989\",\"#3D4A89\",\"#3D4B89\",\"#3D4C89\",\"#3C4D8A\",\"#3C4E8A\",\"#3B508A\",\"#3B518A\",\"#3A528B\",\"#3A538B\",\"#39548B\",\"#39558B\",\"#38568B\",\"#38578C\",\"#37588C\",\"#37598C\",\"#365A8C\",\"#365B8C\",\"#355C8C\",\"#355D8C\",\"#345E8D\",\"#345F8D\",\"#33608D\",\"#33618D\",\"#32628D\",\"#32638D\",\"#31648D\",\"#31658D\",\"#31668D\",\"#30678D\",\"#30688D\",\"#2F698D\",\"#2F6A8D\",\"#2E6B8E\",\"#2E6C8E\",\"#2E6D8E\",\"#2D6E8E\",\"#2D6F8E\",\"#2C708E\",\"#2C718E\",\"#2C728E\",\"#2B738E\",\"#2B748E\",\"#2A758E\",\"#2A768E\",\"#2A778E\",\"#29788E\",\"#29798E\",\"#287A8E\",\"#287A8E\",\"#287B8E\",\"#277C8E\",\"#277D8E\",\"#277E8E\",\"#267F8E\",\"#26808E\",\"#26818E\",\"#25828E\",\"#25838D\",\"#24848D\",\"#24858D\",\"#24868D\",\"#23878D\",\"#23888D\",\"#23898D\",\"#22898D\",\"#228A8D\",\"#228B8D\",\"#218C8D\",\"#218D8C\",\"#218E8C\",\"#208F8C\",\"#20908C\",\"#20918C\",\"#1F928C\",\"#1F938B\",\"#1F948B\",\"#1F958B\",\"#1F968B\",\"#1E978A\",\"#1E988A\",\"#1E998A\",\"#1E998A\",\"#1E9A89\",\"#1E9B89\",\"#1E9C89\",\"#1E9D88\",\"#1E9E88\",\"#1E9F88\",\"#1EA087\",\"#1FA187\",\"#1FA286\",\"#1FA386\",\"#20A485\",\"#20A585\",\"#21A685\",\"#21A784\",\"#22A784\",\"#23A883\",\"#23A982\",\"#24AA82\",\"#25AB81\",\"#26AC81\",\"#27AD80\",\"#28AE7F\",\"#29AF7F\",\"#2AB07E\",\"#2BB17D\",\"#2CB17D\",\"#2EB27C\",\"#2FB37B\",\"#30B47A\",\"#32B57A\",\"#33B679\",\"#35B778\",\"#36B877\",\"#38B976\",\"#39B976\",\"#3BBA75\",\"#3DBB74\",\"#3EBC73\",\"#40BD72\",\"#42BE71\",\"#44BE70\",\"#45BF6F\",\"#47C06E\",\"#49C16D\",\"#4BC26C\",\"#4DC26B\",\"#4FC369\",\"#51C468\",\"#53C567\",\"#55C666\",\"#57C665\",\"#59C764\",\"#5BC862\",\"#5EC961\",\"#60C960\",\"#62CA5F\",\"#64CB5D\",\"#67CC5C\",\"#69CC5B\",\"#6BCD59\",\"#6DCE58\",\"#70CE56\",\"#72CF55\",\"#74D054\",\"#77D052\",\"#79D151\",\"#7CD24F\",\"#7ED24E\",\"#81D34C\",\"#83D34B\",\"#86D449\",\"#88D547\",\"#8BD546\",\"#8DD644\",\"#90D643\",\"#92D741\",\"#95D73F\",\"#97D83E\",\"#9AD83C\",\"#9DD93A\",\"#9FD938\",\"#A2DA37\",\"#A5DA35\",\"#A7DB33\",\"#AADB32\",\"#ADDC30\",\"#AFDC2E\",\"#B2DD2C\",\"#B5DD2B\",\"#B7DD29\",\"#BADE27\",\"#BDDE26\",\"#BFDF24\",\"#C2DF22\",\"#C5DF21\",\"#C7E01F\",\"#CAE01E\",\"#CDE01D\",\"#CFE11C\",\"#D2E11B\",\"#D4E11A\",\"#D7E219\",\"#DAE218\",\"#DCE218\",\"#DFE318\",\"#E1E318\",\"#E4E318\",\"#E7E419\",\"#E9E419\",\"#ECE41A\",\"#EEE51B\",\"#F1E51C\",\"#F3E51E\",\"#F6E61F\",\"#F8E621\",\"#FAE622\",\"#FDE724\"],\"factors\":[\"Category A\",\"Category B\",\"Category C\",\"Category D\",\"Category E\"]}}}}},\"nonselection_glyph\":{\"type\":\"object\",\"name\":\"VBar\",\"id\":\"p1032\",\"attributes\":{\"x\":{\"type\":\"field\",\"field\":\"categories\"},\"width\":{\"type\":\"value\",\"value\":0.9},\"top\":{\"type\":\"field\",\"field\":\"values\"},\"line_color\":{\"type\":\"value\",\"value\":\"white\"},\"line_alpha\":{\"type\":\"value\",\"value\":0.1},\"fill_color\":{\"type\":\"field\",\"field\":\"categories\",\"transform\":{\"id\":\"p1027\"}},\"fill_alpha\":{\"type\":\"value\",\"value\":0.1},\"hatch_alpha\":{\"type\":\"value\",\"value\":0.1}}},\"muted_glyph\":{\"type\":\"object\",\"name\":\"VBar\",\"id\":\"p1033\",\"attributes\":{\"x\":{\"type\":\"field\",\"field\":\"categories\"},\"width\":{\"type\":\"value\",\"value\":0.9},\"top\":{\"type\":\"field\",\"field\":\"values\"},\"line_color\":{\"type\":\"value\",\"value\":\"white\"},\"line_alpha\":{\"type\":\"value\",\"value\":0.2},\"fill_color\":{\"type\":\"field\",\"field\":\"categories\",\"transform\":{\"id\":\"p1027\"}},\"fill_alpha\":{\"type\":\"value\",\"value\":0.2},\"hatch_alpha\":{\"type\":\"value\",\"value\":0.2}}}}}],\"toolbar\":{\"type\":\"object\",\"name\":\"Toolbar\",\"id\":\"p1013\",\"attributes\":{\"tools\":[{\"type\":\"object\",\"name\":\"HoverTool\",\"id\":\"p1039\",\"attributes\":{\"renderers\":\"auto\",\"tooltips\":[[\"Category\",\"@categories\"],[\"Value\",\"@values\"]]}}]}},\"left\":[{\"type\":\"object\",\"name\":\"LinearAxis\",\"id\":\"p1022\",\"attributes\":{\"ticker\":{\"type\":\"object\",\"name\":\"BasicTicker\",\"id\":\"p1023\",\"attributes\":{\"mantissas\":[1,2,5]}},\"formatter\":{\"type\":\"object\",\"name\":\"BasicTickFormatter\",\"id\":\"p1024\"},\"axis_label\":\"Values\",\"major_label_policy\":{\"type\":\"object\",\"name\":\"AllLabels\",\"id\":\"p1025\"}}}],\"below\":[{\"type\":\"object\",\"name\":\"CategoricalAxis\",\"id\":\"p1017\",\"attributes\":{\"ticker\":{\"type\":\"object\",\"name\":\"CategoricalTicker\",\"id\":\"p1018\"},\"formatter\":{\"type\":\"object\",\"name\":\"CategoricalTickFormatter\",\"id\":\"p1019\"},\"axis_label\":\"Categories\",\"major_label_policy\":{\"type\":\"object\",\"name\":\"AllLabels\",\"id\":\"p1020\"}}}],\"center\":[{\"type\":\"object\",\"name\":\"Grid\",\"id\":\"p1021\",\"attributes\":{\"axis\":{\"id\":\"p1017\"}}},{\"type\":\"object\",\"name\":\"Grid\",\"id\":\"p1026\",\"attributes\":{\"dimension\":1,\"axis\":{\"id\":\"p1022\"}}},{\"type\":\"object\",\"name\":\"Legend\",\"id\":\"p1037\",\"attributes\":{\"location\":\"top_center\",\"orientation\":\"horizontal\",\"items\":[{\"type\":\"object\",\"name\":\"LegendItem\",\"id\":\"p1038\",\"attributes\":{\"label\":{\"type\":\"field\",\"field\":\"categories\"},\"renderers\":[{\"id\":\"p1034\"}]}}]}}]}}]}};\n  const render_items = [{\"docid\":\"0bb19ea2-bcd3-4eef-be8e-519b3c0f84da\",\"roots\":{\"p1004\":\"a03faf26-7e75-4c24-b562-de3f699170a1\"},\"root_ids\":[\"p1004\"]}];\n  void root.Bokeh.embed.embed_items_notebook(docs_json, render_items);\n  }\n  if (root.Bokeh !== undefined) {\n    embed_document(root);\n  } else {\n    let attempts = 0;\n    const timer = setInterval(function(root) {\n      if (root.Bokeh !== undefined) {\n        clearInterval(timer);\n        embed_document(root);\n      } else {\n        attempts++;\n        if (attempts > 100) {\n          clearInterval(timer);\n          console.log(\"Bokeh: ERROR: Unable to run BokehJS code because BokehJS library is missing\");\n        }\n      }\n    }, 10, root)\n  }\n})(window);",
      "application/vnd.bokehjs_exec.v0+json": ""
     },
     "metadata": {
      "application/vnd.bokehjs_exec.v0+json": {
       "id": "p1004"
      }
     },
     "output_type": "display_data"
    }
   ],
   "source": [
    "import numpy as np\n",
    "import pandas as pd\n",
    "from bokeh.plotting import figure, show\n",
    "from bokeh.io import output_notebook\n",
    "from bokeh.transform import factor_cmap\n",
    "from bokeh.models import ColumnDataSource, HoverTool\n",
    "from bokeh.palettes import Viridis256\n",
    "\n",
    "# Step 1: Import necessary libraries\n",
    "output_notebook()\n",
    "\n",
    "# Step 2: Generate random categorical data\n",
    "categories = ['Category A', 'Category B', 'Category C', 'Category D', 'Category E']\n",
    "values = np.random.randint(1, 100, size=len(categories))\n",
    "\n",
    "# Create a DataFrame\n",
    "data = pd.DataFrame({'categories': categories, 'values': values})\n",
    "\n",
    "# Step 3: Create a Bokeh plot\n",
    "source = ColumnDataSource(data)\n",
    "\n",
    "p = figure(x_range=categories, title=\"Random Categorical Bar Chart\", x_axis_label='Categories', y_axis_label='Values', tools=\"\")\n",
    "\n",
    "# Step 4: Add bars to the plot\n",
    "cmap = factor_cmap('categories', palette=Viridis256, factors=categories)\n",
    "p.vbar(x='categories', top='values', width=0.9, source=source, legend_field=\"categories\", line_color='white', fill_color=cmap)\n",
    "\n",
    "# Add hover tooltips\n",
    "hover = HoverTool()\n",
    "hover.tooltips = [(\"Category\", \"@categories\"), (\"Value\", \"@values\")]\n",
    "p.add_tools(hover)\n",
    "\n",
    "# Customize plot\n",
    "p.legend.orientation = \"horizontal\"\n",
    "p.legend.location = \"top_center\"\n",
    "\n",
    "# Show the results\n",
    "show(p)\n"
   ]
  },
  {
   "cell_type": "code",
   "execution_count": null,
   "id": "7fb6383a",
   "metadata": {},
   "outputs": [],
   "source": []
  },
  {
   "cell_type": "markdown",
   "id": "c40e395a",
   "metadata": {},
   "source": [
    "## 20. Using Plotly, create a basic line plot of a randomly generated dataset, label the axes, and set the title as 'Simple Line Plot'."
   ]
  },
  {
   "cell_type": "code",
   "execution_count": 80,
   "id": "bcab03a5",
   "metadata": {},
   "outputs": [
    {
     "name": "stdout",
     "output_type": "stream",
     "text": [
      "Collecting plotly\n",
      "  Downloading plotly-5.22.0-py3-none-any.whl.metadata (7.1 kB)\n",
      "Collecting tenacity>=6.2.0 (from plotly)\n",
      "  Downloading tenacity-8.3.0-py3-none-any.whl.metadata (1.2 kB)\n",
      "Requirement already satisfied: packaging in c:\\users\\asus\\appdata\\local\\programs\\python\\python312\\lib\\site-packages (from plotly) (23.2)\n",
      "Downloading plotly-5.22.0-py3-none-any.whl (16.4 MB)\n",
      "   ---------------------------------------- 0.0/16.4 MB ? eta -:--:--\n",
      "   ---------------------------------------- 0.0/16.4 MB ? eta -:--:--\n",
      "   ---------------------------------------- 0.0/16.4 MB ? eta -:--:--\n",
      "   ---------------------------------------- 0.0/16.4 MB 495.5 kB/s eta 0:00:34\n",
      "   ---------------------------------------- 0.1/16.4 MB 1.0 MB/s eta 0:00:16\n",
      "    --------------------------------------- 0.3/16.4 MB 1.2 MB/s eta 0:00:14\n",
      "    --------------------------------------- 0.4/16.4 MB 1.3 MB/s eta 0:00:13\n",
      "   - -------------------------------------- 0.5/16.4 MB 1.4 MB/s eta 0:00:12\n",
      "   - -------------------------------------- 0.6/16.4 MB 1.6 MB/s eta 0:00:10\n",
      "   - -------------------------------------- 0.7/16.4 MB 1.6 MB/s eta 0:00:10\n",
      "   -- ------------------------------------- 0.8/16.4 MB 1.7 MB/s eta 0:00:10\n",
      "   -- ------------------------------------- 0.9/16.4 MB 1.7 MB/s eta 0:00:10\n",
      "   -- ------------------------------------- 1.1/16.4 MB 1.8 MB/s eta 0:00:09\n",
      "   -- ------------------------------------- 1.1/16.4 MB 1.8 MB/s eta 0:00:09\n",
      "   --- ------------------------------------ 1.3/16.4 MB 1.8 MB/s eta 0:00:09\n",
      "   --- ------------------------------------ 1.4/16.4 MB 1.9 MB/s eta 0:00:08\n",
      "   --- ------------------------------------ 1.6/16.4 MB 2.0 MB/s eta 0:00:08\n",
      "   ---- ----------------------------------- 1.7/16.4 MB 2.1 MB/s eta 0:00:08\n",
      "   ---- ----------------------------------- 1.9/16.4 MB 2.1 MB/s eta 0:00:07\n",
      "   ----- ---------------------------------- 2.2/16.4 MB 2.2 MB/s eta 0:00:07\n",
      "   ----- ---------------------------------- 2.3/16.4 MB 2.3 MB/s eta 0:00:07\n",
      "   ------ --------------------------------- 2.5/16.4 MB 2.4 MB/s eta 0:00:06\n",
      "   ------ --------------------------------- 2.7/16.4 MB 2.5 MB/s eta 0:00:06\n",
      "   ------ --------------------------------- 2.8/16.4 MB 2.5 MB/s eta 0:00:06\n",
      "   ------- -------------------------------- 3.0/16.4 MB 2.6 MB/s eta 0:00:06\n",
      "   ------- -------------------------------- 3.3/16.4 MB 2.6 MB/s eta 0:00:05\n",
      "   -------- ------------------------------- 3.5/16.4 MB 2.7 MB/s eta 0:00:05\n",
      "   --------- ------------------------------ 3.7/16.4 MB 2.8 MB/s eta 0:00:05\n",
      "   --------- ------------------------------ 4.0/16.4 MB 2.9 MB/s eta 0:00:05\n",
      "   ---------- ----------------------------- 4.2/16.4 MB 2.9 MB/s eta 0:00:05\n",
      "   ---------- ----------------------------- 4.4/16.4 MB 3.0 MB/s eta 0:00:05\n",
      "   ----------- ---------------------------- 4.5/16.4 MB 3.0 MB/s eta 0:00:04\n",
      "   ----------- ---------------------------- 4.7/16.4 MB 3.0 MB/s eta 0:00:04\n",
      "   ----------- ---------------------------- 4.8/16.4 MB 3.0 MB/s eta 0:00:04\n",
      "   ------------ --------------------------- 5.1/16.4 MB 3.1 MB/s eta 0:00:04\n",
      "   ------------ --------------------------- 5.3/16.4 MB 3.1 MB/s eta 0:00:04\n",
      "   ------------- -------------------------- 5.5/16.4 MB 3.2 MB/s eta 0:00:04\n",
      "   -------------- ------------------------- 5.8/16.4 MB 3.2 MB/s eta 0:00:04\n",
      "   -------------- ------------------------- 6.0/16.4 MB 3.3 MB/s eta 0:00:04\n",
      "   --------------- ------------------------ 6.2/16.4 MB 3.3 MB/s eta 0:00:04\n",
      "   --------------- ------------------------ 6.4/16.4 MB 3.3 MB/s eta 0:00:04\n",
      "   ---------------- ----------------------- 6.7/16.4 MB 3.3 MB/s eta 0:00:03\n",
      "   ---------------- ----------------------- 6.9/16.4 MB 3.4 MB/s eta 0:00:03\n",
      "   ----------------- ---------------------- 7.1/16.4 MB 3.4 MB/s eta 0:00:03\n",
      "   ------------------ --------------------- 7.4/16.4 MB 3.5 MB/s eta 0:00:03\n",
      "   ------------------ --------------------- 7.8/16.4 MB 3.6 MB/s eta 0:00:03\n",
      "   ------------------- -------------------- 8.1/16.4 MB 3.6 MB/s eta 0:00:03\n",
      "   -------------------- ------------------- 8.4/16.4 MB 3.7 MB/s eta 0:00:03\n",
      "   --------------------- ------------------ 8.7/16.4 MB 3.7 MB/s eta 0:00:03\n",
      "   --------------------- ------------------ 9.0/16.4 MB 3.8 MB/s eta 0:00:02\n",
      "   ---------------------- ----------------- 9.3/16.4 MB 3.9 MB/s eta 0:00:02\n",
      "   ----------------------- ---------------- 9.6/16.4 MB 3.9 MB/s eta 0:00:02\n",
      "   ------------------------ --------------- 9.9/16.4 MB 3.9 MB/s eta 0:00:02\n",
      "   ------------------------ --------------- 10.2/16.4 MB 4.0 MB/s eta 0:00:02\n",
      "   ------------------------- -------------- 10.5/16.4 MB 4.2 MB/s eta 0:00:02\n",
      "   -------------------------- ------------- 10.8/16.4 MB 4.5 MB/s eta 0:00:02\n",
      "   --------------------------- ------------ 11.1/16.4 MB 4.7 MB/s eta 0:00:02\n",
      "   --------------------------- ------------ 11.5/16.4 MB 4.9 MB/s eta 0:00:02\n",
      "   ---------------------------- ----------- 11.8/16.4 MB 5.0 MB/s eta 0:00:01\n",
      "   ----------------------------- ---------- 12.1/16.4 MB 5.1 MB/s eta 0:00:01\n",
      "   ------------------------------ --------- 12.4/16.4 MB 5.2 MB/s eta 0:00:01\n",
      "   ------------------------------ --------- 12.6/16.4 MB 5.3 MB/s eta 0:00:01\n",
      "   ------------------------------- -------- 13.1/16.4 MB 5.5 MB/s eta 0:00:01\n",
      "   -------------------------------- ------- 13.3/16.4 MB 5.5 MB/s eta 0:00:01\n",
      "   --------------------------------- ------ 13.6/16.4 MB 5.5 MB/s eta 0:00:01\n",
      "   --------------------------------- ------ 13.8/16.4 MB 5.5 MB/s eta 0:00:01\n",
      "   ---------------------------------- ----- 14.2/16.4 MB 5.5 MB/s eta 0:00:01\n",
      "   ----------------------------------- ---- 14.5/16.4 MB 5.7 MB/s eta 0:00:01\n",
      "   ----------------------------------- ---- 14.7/16.4 MB 5.7 MB/s eta 0:00:01\n",
      "   ------------------------------------ --- 15.0/16.4 MB 5.9 MB/s eta 0:00:01\n",
      "   ------------------------------------- -- 15.2/16.4 MB 5.9 MB/s eta 0:00:01\n",
      "   -------------------------------------- - 15.6/16.4 MB 6.0 MB/s eta 0:00:01\n",
      "   -------------------------------------- - 15.9/16.4 MB 6.1 MB/s eta 0:00:01\n",
      "   ---------------------------------------  16.2/16.4 MB 6.1 MB/s eta 0:00:01\n",
      "   ---------------------------------------  16.4/16.4 MB 6.1 MB/s eta 0:00:01\n",
      "   ---------------------------------------  16.4/16.4 MB 6.2 MB/s eta 0:00:01\n",
      "   ---------------------------------------- 16.4/16.4 MB 6.0 MB/s eta 0:00:00\n",
      "Downloading tenacity-8.3.0-py3-none-any.whl (25 kB)\n",
      "Installing collected packages: tenacity, plotly\n",
      "Successfully installed plotly-5.22.0 tenacity-8.3.0\n",
      "Note: you may need to restart the kernel to use updated packages.\n"
     ]
    }
   ],
   "source": [
    "pip install plotly"
   ]
  },
  {
   "cell_type": "markdown",
   "id": "54f981e3",
   "metadata": {},
   "source": [
    "##  21. Using Plotly, create an interactive pie chart of randomly generated data, add labels and percentages, set the title as 'Interactive Pie Chart'"
   ]
  },
  {
   "cell_type": "code",
   "execution_count": 82,
   "id": "a3e11632",
   "metadata": {},
   "outputs": [
    {
     "data": {
      "application/vnd.plotly.v1+json": {
       "config": {
        "plotlyServerURL": "https://plot.ly"
       },
       "data": [
        {
         "domain": {
          "x": [
           0,
           1
          ],
          "y": [
           0,
           1
          ]
         },
         "hole": 0.4,
         "hovertemplate": "label=%{label}<br>value=%{value}<extra></extra>",
         "labels": [
          "Category A",
          "Category B",
          "Category C",
          "Category D"
         ],
         "legendgroup": "",
         "name": "",
         "showlegend": true,
         "textinfo": "percent+label",
         "textposition": "inside",
         "type": "pie",
         "values": [
          1,
          2,
          5,
          2
         ]
        }
       ],
       "layout": {
        "legend": {
         "tracegroupgap": 0
        },
        "template": {
         "data": {
          "bar": [
           {
            "error_x": {
             "color": "#2a3f5f"
            },
            "error_y": {
             "color": "#2a3f5f"
            },
            "marker": {
             "line": {
              "color": "#E5ECF6",
              "width": 0.5
             },
             "pattern": {
              "fillmode": "overlay",
              "size": 10,
              "solidity": 0.2
             }
            },
            "type": "bar"
           }
          ],
          "barpolar": [
           {
            "marker": {
             "line": {
              "color": "#E5ECF6",
              "width": 0.5
             },
             "pattern": {
              "fillmode": "overlay",
              "size": 10,
              "solidity": 0.2
             }
            },
            "type": "barpolar"
           }
          ],
          "carpet": [
           {
            "aaxis": {
             "endlinecolor": "#2a3f5f",
             "gridcolor": "white",
             "linecolor": "white",
             "minorgridcolor": "white",
             "startlinecolor": "#2a3f5f"
            },
            "baxis": {
             "endlinecolor": "#2a3f5f",
             "gridcolor": "white",
             "linecolor": "white",
             "minorgridcolor": "white",
             "startlinecolor": "#2a3f5f"
            },
            "type": "carpet"
           }
          ],
          "choropleth": [
           {
            "colorbar": {
             "outlinewidth": 0,
             "ticks": ""
            },
            "type": "choropleth"
           }
          ],
          "contour": [
           {
            "colorbar": {
             "outlinewidth": 0,
             "ticks": ""
            },
            "colorscale": [
             [
              0,
              "#0d0887"
             ],
             [
              0.1111111111111111,
              "#46039f"
             ],
             [
              0.2222222222222222,
              "#7201a8"
             ],
             [
              0.3333333333333333,
              "#9c179e"
             ],
             [
              0.4444444444444444,
              "#bd3786"
             ],
             [
              0.5555555555555556,
              "#d8576b"
             ],
             [
              0.6666666666666666,
              "#ed7953"
             ],
             [
              0.7777777777777778,
              "#fb9f3a"
             ],
             [
              0.8888888888888888,
              "#fdca26"
             ],
             [
              1,
              "#f0f921"
             ]
            ],
            "type": "contour"
           }
          ],
          "contourcarpet": [
           {
            "colorbar": {
             "outlinewidth": 0,
             "ticks": ""
            },
            "type": "contourcarpet"
           }
          ],
          "heatmap": [
           {
            "colorbar": {
             "outlinewidth": 0,
             "ticks": ""
            },
            "colorscale": [
             [
              0,
              "#0d0887"
             ],
             [
              0.1111111111111111,
              "#46039f"
             ],
             [
              0.2222222222222222,
              "#7201a8"
             ],
             [
              0.3333333333333333,
              "#9c179e"
             ],
             [
              0.4444444444444444,
              "#bd3786"
             ],
             [
              0.5555555555555556,
              "#d8576b"
             ],
             [
              0.6666666666666666,
              "#ed7953"
             ],
             [
              0.7777777777777778,
              "#fb9f3a"
             ],
             [
              0.8888888888888888,
              "#fdca26"
             ],
             [
              1,
              "#f0f921"
             ]
            ],
            "type": "heatmap"
           }
          ],
          "heatmapgl": [
           {
            "colorbar": {
             "outlinewidth": 0,
             "ticks": ""
            },
            "colorscale": [
             [
              0,
              "#0d0887"
             ],
             [
              0.1111111111111111,
              "#46039f"
             ],
             [
              0.2222222222222222,
              "#7201a8"
             ],
             [
              0.3333333333333333,
              "#9c179e"
             ],
             [
              0.4444444444444444,
              "#bd3786"
             ],
             [
              0.5555555555555556,
              "#d8576b"
             ],
             [
              0.6666666666666666,
              "#ed7953"
             ],
             [
              0.7777777777777778,
              "#fb9f3a"
             ],
             [
              0.8888888888888888,
              "#fdca26"
             ],
             [
              1,
              "#f0f921"
             ]
            ],
            "type": "heatmapgl"
           }
          ],
          "histogram": [
           {
            "marker": {
             "pattern": {
              "fillmode": "overlay",
              "size": 10,
              "solidity": 0.2
             }
            },
            "type": "histogram"
           }
          ],
          "histogram2d": [
           {
            "colorbar": {
             "outlinewidth": 0,
             "ticks": ""
            },
            "colorscale": [
             [
              0,
              "#0d0887"
             ],
             [
              0.1111111111111111,
              "#46039f"
             ],
             [
              0.2222222222222222,
              "#7201a8"
             ],
             [
              0.3333333333333333,
              "#9c179e"
             ],
             [
              0.4444444444444444,
              "#bd3786"
             ],
             [
              0.5555555555555556,
              "#d8576b"
             ],
             [
              0.6666666666666666,
              "#ed7953"
             ],
             [
              0.7777777777777778,
              "#fb9f3a"
             ],
             [
              0.8888888888888888,
              "#fdca26"
             ],
             [
              1,
              "#f0f921"
             ]
            ],
            "type": "histogram2d"
           }
          ],
          "histogram2dcontour": [
           {
            "colorbar": {
             "outlinewidth": 0,
             "ticks": ""
            },
            "colorscale": [
             [
              0,
              "#0d0887"
             ],
             [
              0.1111111111111111,
              "#46039f"
             ],
             [
              0.2222222222222222,
              "#7201a8"
             ],
             [
              0.3333333333333333,
              "#9c179e"
             ],
             [
              0.4444444444444444,
              "#bd3786"
             ],
             [
              0.5555555555555556,
              "#d8576b"
             ],
             [
              0.6666666666666666,
              "#ed7953"
             ],
             [
              0.7777777777777778,
              "#fb9f3a"
             ],
             [
              0.8888888888888888,
              "#fdca26"
             ],
             [
              1,
              "#f0f921"
             ]
            ],
            "type": "histogram2dcontour"
           }
          ],
          "mesh3d": [
           {
            "colorbar": {
             "outlinewidth": 0,
             "ticks": ""
            },
            "type": "mesh3d"
           }
          ],
          "parcoords": [
           {
            "line": {
             "colorbar": {
              "outlinewidth": 0,
              "ticks": ""
             }
            },
            "type": "parcoords"
           }
          ],
          "pie": [
           {
            "automargin": true,
            "type": "pie"
           }
          ],
          "scatter": [
           {
            "fillpattern": {
             "fillmode": "overlay",
             "size": 10,
             "solidity": 0.2
            },
            "type": "scatter"
           }
          ],
          "scatter3d": [
           {
            "line": {
             "colorbar": {
              "outlinewidth": 0,
              "ticks": ""
             }
            },
            "marker": {
             "colorbar": {
              "outlinewidth": 0,
              "ticks": ""
             }
            },
            "type": "scatter3d"
           }
          ],
          "scattercarpet": [
           {
            "marker": {
             "colorbar": {
              "outlinewidth": 0,
              "ticks": ""
             }
            },
            "type": "scattercarpet"
           }
          ],
          "scattergeo": [
           {
            "marker": {
             "colorbar": {
              "outlinewidth": 0,
              "ticks": ""
             }
            },
            "type": "scattergeo"
           }
          ],
          "scattergl": [
           {
            "marker": {
             "colorbar": {
              "outlinewidth": 0,
              "ticks": ""
             }
            },
            "type": "scattergl"
           }
          ],
          "scattermapbox": [
           {
            "marker": {
             "colorbar": {
              "outlinewidth": 0,
              "ticks": ""
             }
            },
            "type": "scattermapbox"
           }
          ],
          "scatterpolar": [
           {
            "marker": {
             "colorbar": {
              "outlinewidth": 0,
              "ticks": ""
             }
            },
            "type": "scatterpolar"
           }
          ],
          "scatterpolargl": [
           {
            "marker": {
             "colorbar": {
              "outlinewidth": 0,
              "ticks": ""
             }
            },
            "type": "scatterpolargl"
           }
          ],
          "scatterternary": [
           {
            "marker": {
             "colorbar": {
              "outlinewidth": 0,
              "ticks": ""
             }
            },
            "type": "scatterternary"
           }
          ],
          "surface": [
           {
            "colorbar": {
             "outlinewidth": 0,
             "ticks": ""
            },
            "colorscale": [
             [
              0,
              "#0d0887"
             ],
             [
              0.1111111111111111,
              "#46039f"
             ],
             [
              0.2222222222222222,
              "#7201a8"
             ],
             [
              0.3333333333333333,
              "#9c179e"
             ],
             [
              0.4444444444444444,
              "#bd3786"
             ],
             [
              0.5555555555555556,
              "#d8576b"
             ],
             [
              0.6666666666666666,
              "#ed7953"
             ],
             [
              0.7777777777777778,
              "#fb9f3a"
             ],
             [
              0.8888888888888888,
              "#fdca26"
             ],
             [
              1,
              "#f0f921"
             ]
            ],
            "type": "surface"
           }
          ],
          "table": [
           {
            "cells": {
             "fill": {
              "color": "#EBF0F8"
             },
             "line": {
              "color": "white"
             }
            },
            "header": {
             "fill": {
              "color": "#C8D4E3"
             },
             "line": {
              "color": "white"
             }
            },
            "type": "table"
           }
          ]
         },
         "layout": {
          "annotationdefaults": {
           "arrowcolor": "#2a3f5f",
           "arrowhead": 0,
           "arrowwidth": 1
          },
          "autotypenumbers": "strict",
          "coloraxis": {
           "colorbar": {
            "outlinewidth": 0,
            "ticks": ""
           }
          },
          "colorscale": {
           "diverging": [
            [
             0,
             "#8e0152"
            ],
            [
             0.1,
             "#c51b7d"
            ],
            [
             0.2,
             "#de77ae"
            ],
            [
             0.3,
             "#f1b6da"
            ],
            [
             0.4,
             "#fde0ef"
            ],
            [
             0.5,
             "#f7f7f7"
            ],
            [
             0.6,
             "#e6f5d0"
            ],
            [
             0.7,
             "#b8e186"
            ],
            [
             0.8,
             "#7fbc41"
            ],
            [
             0.9,
             "#4d9221"
            ],
            [
             1,
             "#276419"
            ]
           ],
           "sequential": [
            [
             0,
             "#0d0887"
            ],
            [
             0.1111111111111111,
             "#46039f"
            ],
            [
             0.2222222222222222,
             "#7201a8"
            ],
            [
             0.3333333333333333,
             "#9c179e"
            ],
            [
             0.4444444444444444,
             "#bd3786"
            ],
            [
             0.5555555555555556,
             "#d8576b"
            ],
            [
             0.6666666666666666,
             "#ed7953"
            ],
            [
             0.7777777777777778,
             "#fb9f3a"
            ],
            [
             0.8888888888888888,
             "#fdca26"
            ],
            [
             1,
             "#f0f921"
            ]
           ],
           "sequentialminus": [
            [
             0,
             "#0d0887"
            ],
            [
             0.1111111111111111,
             "#46039f"
            ],
            [
             0.2222222222222222,
             "#7201a8"
            ],
            [
             0.3333333333333333,
             "#9c179e"
            ],
            [
             0.4444444444444444,
             "#bd3786"
            ],
            [
             0.5555555555555556,
             "#d8576b"
            ],
            [
             0.6666666666666666,
             "#ed7953"
            ],
            [
             0.7777777777777778,
             "#fb9f3a"
            ],
            [
             0.8888888888888888,
             "#fdca26"
            ],
            [
             1,
             "#f0f921"
            ]
           ]
          },
          "colorway": [
           "#636efa",
           "#EF553B",
           "#00cc96",
           "#ab63fa",
           "#FFA15A",
           "#19d3f3",
           "#FF6692",
           "#B6E880",
           "#FF97FF",
           "#FECB52"
          ],
          "font": {
           "color": "#2a3f5f"
          },
          "geo": {
           "bgcolor": "white",
           "lakecolor": "white",
           "landcolor": "#E5ECF6",
           "showlakes": true,
           "showland": true,
           "subunitcolor": "white"
          },
          "hoverlabel": {
           "align": "left"
          },
          "hovermode": "closest",
          "mapbox": {
           "style": "light"
          },
          "paper_bgcolor": "white",
          "plot_bgcolor": "#E5ECF6",
          "polar": {
           "angularaxis": {
            "gridcolor": "white",
            "linecolor": "white",
            "ticks": ""
           },
           "bgcolor": "#E5ECF6",
           "radialaxis": {
            "gridcolor": "white",
            "linecolor": "white",
            "ticks": ""
           }
          },
          "scene": {
           "xaxis": {
            "backgroundcolor": "#E5ECF6",
            "gridcolor": "white",
            "gridwidth": 2,
            "linecolor": "white",
            "showbackground": true,
            "ticks": "",
            "zerolinecolor": "white"
           },
           "yaxis": {
            "backgroundcolor": "#E5ECF6",
            "gridcolor": "white",
            "gridwidth": 2,
            "linecolor": "white",
            "showbackground": true,
            "ticks": "",
            "zerolinecolor": "white"
           },
           "zaxis": {
            "backgroundcolor": "#E5ECF6",
            "gridcolor": "white",
            "gridwidth": 2,
            "linecolor": "white",
            "showbackground": true,
            "ticks": "",
            "zerolinecolor": "white"
           }
          },
          "shapedefaults": {
           "line": {
            "color": "#2a3f5f"
           }
          },
          "ternary": {
           "aaxis": {
            "gridcolor": "white",
            "linecolor": "white",
            "ticks": ""
           },
           "baxis": {
            "gridcolor": "white",
            "linecolor": "white",
            "ticks": ""
           },
           "bgcolor": "#E5ECF6",
           "caxis": {
            "gridcolor": "white",
            "linecolor": "white",
            "ticks": ""
           }
          },
          "title": {
           "x": 0.05
          },
          "xaxis": {
           "automargin": true,
           "gridcolor": "white",
           "linecolor": "white",
           "ticks": "",
           "title": {
            "standoff": 15
           },
           "zerolinecolor": "white",
           "zerolinewidth": 2
          },
          "yaxis": {
           "automargin": true,
           "gridcolor": "white",
           "linecolor": "white",
           "ticks": "",
           "title": {
            "standoff": 15
           },
           "zerolinecolor": "white",
           "zerolinewidth": 2
          }
         }
        },
        "title": {
         "text": "Interactive Pie Chart"
        }
       }
      }
     },
     "metadata": {},
     "output_type": "display_data"
    }
   ],
   "source": [
    "import plotly.express as px\n",
    "import numpy as np\n",
    "\n",
    "# Generate random data (adjust labels and values as needed)\n",
    "labels = ['Category A', 'Category B', 'Category C', 'Category D']\n",
    "values = np.random.randint(1, 21, size=len(labels))  # Random values between 1 and 20\n",
    "\n",
    "# Create the interactive pie chart\n",
    "fig = px.pie(\n",
    "    values=values,\n",
    "    names=labels,\n",
    "    title='Interactive Pie Chart',\n",
    "    hole=0.4,  # Adjust hole size for better visibility (optional)\n",
    "    labels=labels,  # Set custom labels (optional)\n",
    ")\n",
    "\n",
    "# Update layout for percentages\n",
    "fig.update_traces(textposition='inside', textinfo='percent+label')\n",
    "\n",
    "# Display the plot\n",
    "fig.show()\n"
   ]
  },
  {
   "cell_type": "code",
   "execution_count": null,
   "id": "e4075a7d",
   "metadata": {},
   "outputs": [],
   "source": []
  }
 ],
 "metadata": {
  "kernelspec": {
   "display_name": "Python 3 (ipykernel)",
   "language": "python",
   "name": "python3"
  },
  "language_info": {
   "codemirror_mode": {
    "name": "ipython",
    "version": 3
   },
   "file_extension": ".py",
   "mimetype": "text/x-python",
   "name": "python",
   "nbconvert_exporter": "python",
   "pygments_lexer": "ipython3",
   "version": "3.12.0"
  }
 },
 "nbformat": 4,
 "nbformat_minor": 5
}
